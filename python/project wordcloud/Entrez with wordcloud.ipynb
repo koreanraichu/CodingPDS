{
 "cells": [
  {
   "cell_type": "code",
   "execution_count": null,
   "id": "1e4de1c0",
   "metadata": {
    "scrolled": true
   },
   "outputs": [],
   "source": [
    "from Bio import Entrez\n",
    "from wordcloud import WordCloud\n",
    "from wordcloud import STOPWORDS\n",
    "import matplotlib.pyplot as plot\n",
    "from PIL import Image\n",
    "import numpy as np\n",
    "from argparse import FileType\n",
    "import tkinter\n",
    "from tkinter import filedialog\n",
    "import re\n",
    "import platform\n",
    "# 여기까지 모듈\n",
    "Entrez.email = \"blackholekun@gmail.com\"\n",
    "# 이메일 걍 자기꺼 쓰시면 됩니다\n",
    "terms = input(\"검색어와 조건을 입력해주세요. 예를 들어서 박테리아가 제목인 논문을 찾으실거면 Bacteria[TITLE] 이런 식으로요: \\n\")\n",
    "howmuch = input(\"논문은 몇 개정도 찾으실 생각이신가요?\")\n",
    "# Windows의 경우 시작하기 전에 코드단에서 폰트랑 경로부터 바꿔야 합니다. "
   ]
  },
  {
   "cell_type": "code",
   "execution_count": null,
   "id": "dcae95dd",
   "metadata": {},
   "outputs": [],
   "source": [
    "def replace_function (a):\n",
    "    a = a.replace('[','-')\n",
    "    a = a.replace(']','-')\n",
    "    escape_terms = re.findall('-.{0,5}-',a)\n",
    "    for i in escape_terms:\n",
    "        a = a.replace(i,\"\")\n",
    "    if '/' in a:\n",
    "        a = a.replace('/','-')\n",
    "    return a\n",
    "# term 변환하는 거 함수로 뺐습니다. 근데 블록 실행하기 더 귀찮아진 건 기분탓인가... ㅡㅡ "
   ]
  },
  {
   "cell_type": "code",
   "execution_count": null,
   "id": "7e08ea69",
   "metadata": {},
   "outputs": [],
   "source": [
    "OS = platform.platform()\n",
    "if 'Linux' in OS: \n",
    "    default_dir = '/home'\n",
    "    root = tkinter.Tk()\n",
    "    root.withdraw()\n",
    "    font_dir = '/usr/share/fonts'\n",
    "    font_path = filedialog.askopenfilename(parent=root, initialdir=font_dir, title='Choose your fonts for Wordcloud',\n",
    "                                           filetypes=((\"*.ttf\", \"*ttf\"), (\"*.otf\", \"*otf\")))\n",
    "elif 'Windows' in OS:\n",
    "    default_dir = 'C:\\\\'\n",
    "    root = tkinter.Tk()\n",
    "    root.withdraw()\n",
    "    font_path = filedialog.askopenfilename(parent=root, initialdir=default_dir, title='Choose your fonts for Wordcloud',\n",
    "                                           filetypes=((\"*.ttf\", \"*ttf\"), (\"*.otf\", \"*otf\")))"
   ]
  },
  {
   "cell_type": "code",
   "execution_count": null,
   "id": "7e5e8ae7",
   "metadata": {},
   "outputs": [],
   "source": [
    "handle = Entrez.esearch(db=\"pubmed\", term=terms,retmax=howmuch)\n",
    "record = Entrez.read(handle)\n",
    "IdList=list(record['IdList'])\n",
    "print(\"{}개의 데이터를 찾았습니다. 잠시만 기다려주세요. \".format(len(IdList)))\n",
    "title=[]\n",
    "for i in IdList: \n",
    "    handle = Entrez.esummary(db=\"pubmed\", id=i, retmode=\"xml\")\n",
    "    records = Entrez.parse(handle)  \n",
    "    for record in records:\n",
    "        title.append(record['Title'])    \n",
    "title=''.join(title)\n",
    "print(\"오래 기다리셨습니다! 다 됐어요! \")\n",
    "# Notes: 무지하게 오래 걸린다. 실화다. (retmax와 소요시간이 미칠듯이 비례함)"
   ]
  },
  {
   "cell_type": "code",
   "execution_count": null,
   "id": "92d45bc3",
   "metadata": {},
   "outputs": [],
   "source": [
    "root = tkinter.Tk()\n",
    "root.withdraw()\n",
    "dir_path = filedialog.askopenfilename(parent=root,initialdir=default_dir,title='Choose Image for Wordcloud',filetypes = ((\"*.png\",\"*png\"),(\"*.jpg\",\"*jpg\"),(\"*.gif\",\"*gif\")))\n",
    "image = np.array(Image.open(dir_path))\n",
    "wordcloud = WordCloud(font_path = font_path,\n",
    "                      background_color=\"#ffffff\",colormap=\"Dark2\",width = 960, height=960,\n",
    "                      mask=image)\n",
    "# 이것도 개인적으로 복붙하려고 만든거라;; "
   ]
  },
  {
   "cell_type": "code",
   "execution_count": null,
   "id": "d552835a",
   "metadata": {
    "scrolled": true
   },
   "outputs": [],
   "source": [
    "root = tkinter.Tk()\n",
    "root.withdraw()\n",
    "save_path = filedialog.askdirectory()\n",
    "terms = replace_function(terms)\n",
    "save_dir = \"{}/{}.png\".format(save_path,terms)\n",
    "# 얘는 입력하는 단어에 따라 알아서 만들어줍니다. \n",
    "wordcloud = wordcloud.generate_from_text(title)\n",
    "plot.figure(figsize=(15,15),frameon=False)\n",
    "plot.axis('off')\n",
    "plot.imshow(wordcloud)\n",
    "plot.savefig(save_dir,bbox_inches='tight',pad_inches=0)\n",
    "plot.show()\n",
    "print(\"wordcloud saved where {}\".format(save_dir))"
   ]
  },
  {
   "cell_type": "code",
   "execution_count": null,
   "id": "7185fa63",
   "metadata": {},
   "outputs": [],
   "source": []
  }
 ],
 "metadata": {
  "kernelspec": {
   "display_name": "Python 3 (ipykernel)",
   "language": "python",
   "name": "python3"
  },
  "language_info": {
   "codemirror_mode": {
    "name": "ipython",
    "version": 3
   },
   "file_extension": ".py",
   "mimetype": "text/x-python",
   "name": "python",
   "nbconvert_exporter": "python",
   "pygments_lexer": "ipython3",
   "version": "3.8.12"
  }
 },
 "nbformat": 4,
 "nbformat_minor": 5
}
