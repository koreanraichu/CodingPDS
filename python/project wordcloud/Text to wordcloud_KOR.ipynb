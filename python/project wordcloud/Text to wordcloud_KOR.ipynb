{
 "cells": [
  {
   "cell_type": "code",
   "execution_count": null,
   "id": "a4481640",
   "metadata": {},
   "outputs": [],
   "source": [
    "from wordcloud import WordCloud\n",
    "from wordcloud import STOPWORDS\n",
    "import matplotlib.pyplot as plot\n",
    "from PIL import Image\n",
    "import numpy as np  \n",
    "# Summon module\n",
    "# 아, 참고로 일본어는 안됩니다. 밑에 부르는 모듈이 한글 처리 전문이라... \n",
    "from konlpy.tag import Okt\n",
    "import nltk  \n",
    "okt=Okt()\n",
    "# 한글은 이렇게 처리하면 된다. \n",
    "from argparse import FileType\n",
    "import tkinter\n",
    "from tkinter import filedialog\n",
    "# 파일 저장 관련 모듈\n",
    "import platform"
   ]
  },
  {
   "cell_type": "code",
   "execution_count": null,
   "id": "ebf11420",
   "metadata": {},
   "outputs": [],
   "source": [
    "def munjang_to_noun (a):\n",
    "    a = ' '.join(a)\n",
    "    a = okt.nouns(a)\n",
    "    a = ' '.join(a)\n",
    "    return a"
   ]
  },
  {
   "cell_type": "code",
   "execution_count": null,
   "id": "06b6dbc9",
   "metadata": {},
   "outputs": [],
   "source": [
    "text = []\n",
    "while True: \n",
    "    input_text = input(\"wordcloud로 만들 텍스트를 입력해주세요. \")\n",
    "    text.append(input_text) \n",
    "    if input_text == \"\":\n",
    "        break\n",
    "text = munjang_to_noun(text)"
   ]
  },
  {
   "cell_type": "code",
   "execution_count": null,
   "id": "549ba857",
   "metadata": {},
   "outputs": [],
   "source": [
    "OS = platform.platform()\n",
    "if 'Linux' in OS: \n",
    "    default_dir = '/home'\n",
    "    font_dir = '/usr/share/fonts'\n",
    "else:\n",
    "    default_dir = 'C:\\\\'\n",
    "    font_dir = 'C:\\\\Fonts'"
   ]
  },
  {
   "cell_type": "code",
   "execution_count": null,
   "id": "50490f14",
   "metadata": {},
   "outputs": [],
   "source": [
    "root = tkinter.Tk()\n",
    "root.withdraw()\n",
    "dir_path = filedialog.askopenfilename(parent=root,initialdir=default_dir,title='Please select a directory',filetypes = ((\"*.png\",\"*png\"),(\"*.jpg\",\"*jpg\"),(\"*.gif\",\"*gif\")))\n",
    "image = np.array(Image.open(dir_path)) \n",
    "# 마스킹할 이미지(흰 바탕에 검정색을 권장함)\n",
    "image = np.array(Image.open(dir_path))\n",
    "font_path = filedialog.askopenfilename(parent=root,initialdir=font_dir,title='Please select a directory',filetypes = ((\"*.ttf\",\"*ttf\"),(\"*.otf\",\"*otf\")))\n",
    "wordcloud = WordCloud(font_path = font_path,stopwords=STOPWORDS,\n",
    "                      background_color=\"#ffffff\",colormap=\"magma\",width = 960, height=960,\n",
    "                      mask=image)"
   ]
  },
  {
   "cell_type": "code",
   "execution_count": null,
   "id": "9426781d",
   "metadata": {},
   "outputs": [],
   "source": [
    "root = tkinter.Tk()\n",
    "root.withdraw()\n",
    "save_path = filedialog.asksaveasfilename(parent=root,initialdir=default_dir,title='Please select a directory',filetypes = ((\"*.png\",\"*png\"),(\"*.jpg\",\"*jpg\"),(\"*.gif\",\"*gif\")))\n",
    "# 워드클라우드 저장하는 경로(저장은 png파일만 됩니다)\n",
    "wordcloud = wordcloud.generate_from_text(str(text))\n",
    "plot.figure(figsize=(15,15))\n",
    "plot.axis('off')\n",
    "plot.imshow(wordcloud)\n",
    "plot.savefig(save_path,bbox_inches='tight',pad_inches=0)\n",
    "plot.show()\n",
    "print(\"wordcloud saved where {}.png\".format(save_path))"
   ]
  },
  {
   "cell_type": "code",
   "execution_count": null,
   "id": "607b68e6",
   "metadata": {},
   "outputs": [],
   "source": []
  }
 ],
 "metadata": {
  "kernelspec": {
   "display_name": "Python 3 (ipykernel)",
   "language": "python",
   "name": "python3"
  },
  "language_info": {
   "codemirror_mode": {
    "name": "ipython",
    "version": 3
   },
   "file_extension": ".py",
   "mimetype": "text/x-python",
   "name": "python",
   "nbconvert_exporter": "python",
   "pygments_lexer": "ipython3",
   "version": "3.8.12"
  }
 },
 "nbformat": 4,
 "nbformat_minor": 5
}
