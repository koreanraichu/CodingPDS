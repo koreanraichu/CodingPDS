{
 "cells": [
  {
   "cell_type": "code",
   "execution_count": null,
   "id": "17bd38f3",
   "metadata": {
    "scrolled": true
   },
   "outputs": [],
   "source": [
    "import pandas as pd\n",
    "import re\n",
    "from datetime import datetime\n",
    "from argparse import FileType\n",
    "import tkinter\n",
    "from tkinter import filedialog\n",
    "from Bio import SeqIO\n",
    "# 정신사나워서 불러오는거랑 표 분리했습니다...OTL "
   ]
  },
  {
   "cell_type": "code",
   "execution_count": null,
   "id": "f8012ffa",
   "metadata": {},
   "outputs": [],
   "source": [
    "enzyme_table = pd.read_csv('/home/koreanraichu/restriction.csv')\n",
    "enzyme_table2 = pd.read_csv('/home/koreanraichu/restriction_RE.csv')\n",
    "# 정규식 도입을 위해... 어쩔 수 없이 합쳤음... \n",
    "enzyme_table = pd.concat([enzyme_table,enzyme_table2])\n",
    "enzyme_table = enzyme_table.sort_values('Enzyme')\n",
    "enzyme_table.reset_index(inplace=True)\n",
    "# 합쳤다... "
   ]
  },
  {
   "cell_type": "code",
   "execution_count": null,
   "id": "c47246aa",
   "metadata": {},
   "outputs": [],
   "source": [
    "year = datetime.today().year\n",
    "month = datetime.today().month\n",
    "day = datetime.today().day\n",
    "# 이쪽은 파일 저장을 위해 현재 날짜 데이터를 추출하는 코드라 크게 수정할 부분은 없습니다. "
   ]
  },
  {
   "cell_type": "code",
   "execution_count": null,
   "id": "4af52688",
   "metadata": {},
   "outputs": [],
   "source": [
    "class RE_treatment:\n",
    "    def RE_wildcard(self,before_seq):\n",
    "        self.before_seq = before_seq\n",
    "        before_seq = before_seq.replace(\"N\",\".\")\n",
    "        return before_seq\n",
    "    # Wildcard: 시퀀스 데이터에 N이 있을 경우 Wildcard로 바꾼다. \n",
    "    def RE_or(self,before_seq):\n",
    "        self.before_seq = before_seq\n",
    "        if \"B\" in before_seq:\n",
    "            before_seq = before_seq.replace(\"B\",\"[CGT]\")\n",
    "        elif \"D\" in before_seq:\n",
    "            before_seq = before_seq.replace(\"D\",\"[AGT]\")\n",
    "        elif \"H\" in before_seq:\n",
    "            before_seq = before_seq.replace(\"H\",\"[ACT]\")\n",
    "        elif \"K\" in before_seq:\n",
    "            before_seq = before_seq.replace(\"K\",\"[GT]\")\n",
    "        elif \"M\" in before_seq:\n",
    "            before_seq = before_seq.replace(\"M\",\"[AC]\")\n",
    "        elif \"R\" in before_seq:\n",
    "            before_seq = before_seq.replace(\"R\",\"[AG]\")\n",
    "        elif \"S\" in before_seq:\n",
    "            before_seq = before_seq.replace(\"S\",\"[CG]\")\n",
    "        elif \"V\" in before_seq:\n",
    "            before_seq = before_seq.replace(\"V\",\"[ACG]\")\n",
    "        elif \"W\" in before_seq:\n",
    "            before_seq = before_seq.replace(\"W\",\"[AT]\")\n",
    "        elif \"Y\" in before_seq:\n",
    "            before_seq = before_seq.replace(\"Y\",\"[CT]\")\n",
    "        return before_seq\n",
    "    # Or: 시퀀스 데이터에 N 말고 ATGC 말고 다른 알파벳이 있을 경우, 해당하는 정규식 문법으로 바꾼다. "
   ]
  },
  {
   "cell_type": "code",
   "execution_count": null,
   "id": "1a187935",
   "metadata": {
    "scrolled": true
   },
   "outputs": [],
   "source": [
    "filter = input(\"sticky로 자르는 제한효소만 보고 싶으면 sticky, blunt로 자르는 제한효소만 보고 싶으면 blunt를 입력해주세요. \")\n",
    "# sticky: sticky end만 \n",
    "# blunt: blunt end만 \n",
    "# 암것도 안 쓰면 다 봅니다. filter에 따라 테이블 형태가 달라집니다. "
   ]
  },
  {
   "cell_type": "code",
   "execution_count": null,
   "id": "37eac4fb",
   "metadata": {
    "scrolled": true
   },
   "outputs": [],
   "source": [
    "if filter == 'sticky':\n",
    "    enzyme_table = enzyme_table[enzyme_table['cut_feature']== 'sticky']\n",
    "    enzyme_table.reset_index(inplace=True)\n",
    "elif filter == 'blunt':\n",
    "    enzyme_table = enzyme_table[enzyme_table['cut_feature']== 'blunt']\n",
    "    enzyme_table.reset_index(inplace=True)\n",
    "else: \n",
    "    filter = \"No Filter\"\n",
    "    pass\n",
    "# 사용자가 입력한 필터에 따라 코드가 바뀝니다."
   ]
  },
  {
   "cell_type": "code",
   "execution_count": null,
   "id": "9bbcca63",
   "metadata": {
    "scrolled": false
   },
   "outputs": [],
   "source": [
    "FASTA_open = input('FASTA 파일을 불러오시겠습니까? 불러오실거면 FASTA 혹은 fasta를 임력해주세요. ').upper()\n",
    "if FASTA_open == 'FASTA':\n",
    "    root = tkinter.Tk()\n",
    "    root.withdraw()\n",
    "    dir_path = filedialog.askopenfilename(parent=root,initialdir=\"/home/koreanraichu\",title='Please select a directory',filetypes = ((\"*.fasta\",\"*fasta\"),(\"*.faa\",\"*faa\")))\n",
    "    try: \n",
    "        fasta_read = SeqIO.read(dir_path,'fasta')\n",
    "        sequence_name = fasta_read.id\n",
    "        sequence = str(fasta_read.seq)\n",
    "        # 단식으로만 가져오게 함. \n",
    "        print(dir_path,'FASTA 파일을 가져왔습니다! ')\n",
    "    except: \n",
    "        print('이 FASTA파일은 한 파일에 여러 개가 기록되어 있어서 가져올 수 없습니다! ')\n",
    "        # 그래서 parse로 가져와야 하는 파일이면 에러떠여 \n",
    "else: \n",
    "    sequence_name = input(\"검색할 시퀀스의 이름을 입력해주세요: \")\n",
    "    sequence = input(\"검색할 시퀀스를 입력해주세요: \")\n",
    "    # 시퀀스 입력하는 란"
   ]
  },
  {
   "cell_type": "code",
   "execution_count": null,
   "id": "43e66850",
   "metadata": {
    "scrolled": true
   },
   "outputs": [],
   "source": [
    "def cut_func (a,b):\n",
    "    global res_loc_list\n",
    "    locs = re.finditer(a,b)\n",
    "    for i in locs:\n",
    "        loc = i.start()\n",
    "        res_loc_list.append(str(loc+1))\n",
    "    return res_loc_list\n",
    "# 여기가 위치 관련 함수입니다.\n",
    "def convert (a):\n",
    "    RE = RE_treatment()\n",
    "    if \"N\" in res_find:\n",
    "        res_find_after = RE.RE_wildcard(res_find)\n",
    "    elif \"B\" in res_find or \"D\" in res_find or \"H\" in res_find or \"K\" in res_find or \"M\" in res_find or \"R\" in res_find or \"S\" in res_find or \"V\" in res_find or \"W\" in res_find or \"Y\" in res_find: \n",
    "        res_find_after = RE.RE_or(res_find)\n",
    "    return res_find_after\n",
    "# 함수가 대체 몇 개야...!!!\n",
    "# 저 or 진짜 무식하게 다 때려박았음... 줄일 방법 제보 받아요... "
   ]
  },
  {
   "cell_type": "code",
   "execution_count": null,
   "id": "1bdee64d",
   "metadata": {
    "scrolled": true
   },
   "outputs": [],
   "source": [
    "count = 0\n",
    "count_nocut = 0\n",
    "once_cut_list = []\n",
    "two_cut_list = []\n",
    "multi_cut_list = []\n",
    "no_cut_list = []\n",
    "# 변수와 리스트(크게 건들 일 없음)\n",
    "\n",
    "with open('Result.txt_{0}-{1}-{2}_{3}_{4}'.format(year,month,day,filter,sequence_name),'w',encoding='utf-8') as f:\n",
    "    f.write(\"Restriction enzyme which cuts this sequence: \\n\")\n",
    "    for i in range(len(enzyme_table)):\n",
    "        enzyme = enzyme_table['Enzyme'][i]\n",
    "        feature = enzyme_table['cut_feature'][i]\n",
    "        res_find = enzyme_table['sequence'][i]\n",
    "        res_find = str(res_find)\n",
    "        res_find_before = str(res_find)\n",
    "        while True:\n",
    "            if \"N\" in res_find: \n",
    "                res_find = str(convert(res_find))\n",
    "            elif \"B\" in res_find or \"D\" in res_find or \"H\" in res_find or \"K\" in res_find or \"M\" in res_find or \"R\" in res_find or \"S\" in res_find:\n",
    "                res_find = str(convert(res_find))\n",
    "            else: \n",
    "                break\n",
    "        # 정규식 처리\n",
    "        Findall = re.findall(res_find,sequence)\n",
    "        res_loc_list = []\n",
    "        if Findall: \n",
    "            count += 1\n",
    "            site_count = len(Findall)\n",
    "            cut_func(res_find,sequence)\n",
    "            if site_count == 1:\n",
    "                once_cut_list.append(enzyme)\n",
    "            elif site_count == 2: \n",
    "                two_cut_list.append(enzyme)\n",
    "            else: \n",
    "                multi_cut_list.append(enzyme)\n",
    "            res_loc_list = ', '.join(res_loc_list)\n",
    "            f.write(\"{0}: {1} {2}, {3} times cut. Where(bp): {4} \\n\".format(enzyme,res_find_before,feature,site_count,res_loc_list))\n",
    "        else: \n",
    "            count += 0\n",
    "            count_nocut += 1\n",
    "            no_cut_list.append(enzyme)\n",
    "    once_cut_list = ', '.join(once_cut_list)\n",
    "    two_cut_list = ', '.join(two_cut_list)\n",
    "    multi_cut_list = ', '.join(multi_cut_list)\n",
    "    no_cut_list = ', '.join(no_cut_list)\n",
    "    # 출력부\n",
    "    f.write(\"Total: {0} enzymes cut input sequence, {1} enzymes never cut this sequence. \\n\".format(count,count_nocut))\n",
    "    f.write(\"Enzymes no cut this sequence: {0} \\n\".format(no_cut_list))\n",
    "    f.write(\"Enzymes cut this sequence once: {0} \\n\".format(once_cut_list))\n",
    "    f.write(\"Enzymes cut this sequence twice: {0} \\n\".format(two_cut_list))\n",
    "    f.write(\"Enzymes cut this sequence multiple: {0} \\n\".format(multi_cut_list))\n",
    "    f.close()\n",
    "# 컷수도 세주고 자르는 효소랑 안 자르는 효소도 목록으로 쫘라락..."
   ]
  },
  {
   "cell_type": "code",
   "execution_count": null,
   "id": "10b138ee",
   "metadata": {},
   "outputs": [],
   "source": []
  }
 ],
 "metadata": {
  "kernelspec": {
   "display_name": "Python 3 (ipykernel)",
   "language": "python",
   "name": "python3"
  },
  "language_info": {
   "codemirror_mode": {
    "name": "ipython",
    "version": 3
   },
   "file_extension": ".py",
   "mimetype": "text/x-python",
   "name": "python",
   "nbconvert_exporter": "python",
   "pygments_lexer": "ipython3",
   "version": "3.8.12"
  }
 },
 "nbformat": 4,
 "nbformat_minor": 5
}
