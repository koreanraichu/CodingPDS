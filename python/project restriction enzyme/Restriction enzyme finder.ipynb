{
 "cells": [
  {
   "cell_type": "code",
   "execution_count": null,
   "id": "dd0326d5",
   "metadata": {},
   "outputs": [],
   "source": [
    "import pandas as pd\n",
    "import re\n",
    "# 가라! 판다스! \n",
    "from datetime import datetime\n",
    "# 오늘 날짜 가져오는 모듈\n",
    "from argparse import FileType\n",
    "import tkinter\n",
    "from tkinter import filedialog\n",
    "from Bio import SeqIO\n",
    "# FASTA 파일 처리 관련 모듈"
   ]
  },
  {
   "cell_type": "code",
   "execution_count": null,
   "id": "31bfed26",
   "metadata": {},
   "outputs": [],
   "source": [
    "enzyme_table = pd.read_csv('/home/koreanraichu/restriction.csv')\n",
    "enzyme_table2 = pd.read_csv('/home/koreanraichu/restriction_RE.csv')\n",
    "# 정규식 도입을 위해... 어쩔 수 없이 합쳤음... \n",
    "enzyme_table = pd.concat([enzyme_table,enzyme_table2])\n",
    "enzyme_table = enzyme_table.sort_values('Enzyme')\n",
    "enzyme_table.reset_index(inplace=True)\n",
    "# 합쳤다... "
   ]
  },
  {
   "cell_type": "code",
   "execution_count": null,
   "id": "88ed6ba1",
   "metadata": {},
   "outputs": [],
   "source": [
    "year = datetime.today().year\n",
    "month = datetime.today().month\n",
    "day = datetime.today().day"
   ]
  },
  {
   "cell_type": "code",
   "execution_count": null,
   "id": "08e9f874",
   "metadata": {},
   "outputs": [],
   "source": [
    "class RE_treatment:\n",
    "    def RE_wildcard(self,before_seq):\n",
    "        self.before_seq = before_seq\n",
    "        before_seq = before_seq.replace(\"N\",\".\")\n",
    "        return before_seq\n",
    "    # Wildcard: 시퀀스 데이터에 N이 있을 경우 Wildcard로 바꾼다. \n",
    "    def RE_or(self,before_seq):\n",
    "        self.before_seq = before_seq\n",
    "        if \"B\" in before_seq:\n",
    "            before_seq = before_seq.replace(\"B\",\"[CGT]\")\n",
    "        elif \"D\" in before_seq:\n",
    "            before_seq = before_seq.replace(\"D\",\"[AGT]\")\n",
    "        elif \"H\" in before_seq:\n",
    "            before_seq = before_seq.replace(\"H\",\"[ACT]\")\n",
    "        elif \"K\" in before_seq:\n",
    "            before_seq = before_seq.replace(\"K\",\"[GT]\")\n",
    "        elif \"M\" in before_seq:\n",
    "            before_seq = before_seq.replace(\"M\",\"[AC]\")\n",
    "        elif \"R\" in before_seq:\n",
    "            before_seq = before_seq.replace(\"R\",\"[AG]\")\n",
    "        elif \"S\" in before_seq:\n",
    "            before_seq = before_seq.replace(\"S\",\"[CG]\")\n",
    "        elif \"V\" in before_seq:\n",
    "            before_seq = before_seq.replace(\"V\",\"[ACG]\")\n",
    "        elif \"W\" in before_seq:\n",
    "            before_seq = before_seq.replace(\"W\",\"[AT]\")\n",
    "        elif \"Y\" in before_seq:\n",
    "            before_seq = before_seq.replace(\"Y\",\"[CT]\")\n",
    "        return before_seq\n",
    "    # Or: 시퀀스 데이터에 N 말고 ATGC 말고 다른 알파벳이 있을 경우, 해당하는 정규식 문법으로 바꾼다. "
   ]
  },
  {
   "cell_type": "code",
   "execution_count": null,
   "id": "5edd3f23",
   "metadata": {
    "scrolled": false
   },
   "outputs": [],
   "source": [
    "enzyme = input('시퀀스를 찾을 제한효소를 입력해주세요: ').strip()\n",
    "FASTA_open = input('FASTA 파일을 불러오시겠습니까? 불러오실거면 FASTA 혹은 fasta를 임력해주세요. ').upper()\n",
    "if FASTA_open == 'FASTA':\n",
    "    root = tkinter.Tk()\n",
    "    root.withdraw()\n",
    "    dir_path = filedialog.askopenfilename(parent=root,initialdir=\"/home/koreanraichu\",title='Please select a directory',filetypes = ((\"*.fasta\",\"*fasta\"),(\"*.faa\",\"*faa\")))\n",
    "    try: \n",
    "        fasta_read = SeqIO.read(dir_path,'fasta')\n",
    "        sequence_name = fasta_read.id\n",
    "        sequence = str(fasta_read.seq)\n",
    "        # 단식으로만 가져오게 함. \n",
    "        print(dir_path,'FASTA 파일을 가져왔습니다! ')\n",
    "    except: \n",
    "        print('이 FASTA파일은 한 파일에 여러 개가 기록되어 있어서 가져올 수 없습니다! ')\n",
    "        # 그래서 parse로 가져와야 하는 파일이면 에러떠여 \n",
    "else: \n",
    "    sequence_name = input(\"검색할 시퀀스의 이름을 입력해주세요: \")\n",
    "    sequence = input(\"검색할 시퀀스를 입력해주세요: \")\n",
    "    # 시퀀스 입력하는 란"
   ]
  },
  {
   "cell_type": "code",
   "execution_count": null,
   "id": "90efa9da",
   "metadata": {},
   "outputs": [],
   "source": [
    "def cut_func (a,b):\n",
    "    global res_loc_list\n",
    "    locs = re.finditer(a,b)\n",
    "    for i in locs:\n",
    "        loc = i.start()\n",
    "        res_loc_list.append(str(loc+1))\n",
    "    return res_loc_list\n",
    "# 여기가 위치 관련 함수입니다.\n",
    "def convert (a):\n",
    "    RE = RE_treatment()\n",
    "    if \"N\" in res_find:\n",
    "        res_find_after = RE.RE_wildcard(res_find)\n",
    "    elif \"B\" in res_find or \"D\" in res_find or \"H\" in res_find or \"K\" in res_find or \"M\" in res_find or \"R\" in res_find or \"S\" in res_find or \"V\" in res_find or \"W\" in res_find or \"Y\" in res_find: \n",
    "        res_find_after = RE.RE_or(res_find)\n",
    "    return res_find_after\n",
    "# 함수가 대체 몇 개야...!!!\n",
    "# 저 or 진짜 무식하게 다 때려박았음... 줄일 방법 제보 받아요... "
   ]
  },
  {
   "cell_type": "code",
   "execution_count": null,
   "id": "6654274e",
   "metadata": {},
   "outputs": [],
   "source": [
    "res_find = enzyme_table.sequence[(enzyme_table['Enzyme'] == enzyme)]\n",
    "res_find = res_find.to_string(index=False)\n",
    "res_find = res_find.upper()\n",
    "res_find = str(res_find)\n",
    "# 인식 시퀀스 처리\n",
    "while True:\n",
    "    if \"N\" in res_find: \n",
    "        res_find = str(convert(res_find))\n",
    "        print(res_find)\n",
    "    elif \"B\" in res_find or \"D\" in res_find or \"H\" in res_find or \"K\" in res_find or \"M\" in res_find or \"R\" in res_find or \"S\" in res_find:\n",
    "        res_find = str(convert(res_find))\n",
    "        print(res_find)\n",
    "    else: \n",
    "        break\n",
    "# 정규식 처리\n",
    "res_site = enzyme_table.restriction_site[(enzyme_table['Enzyme'] == enzyme)]\n",
    "res_site = res_site.to_string(index=False)\n",
    "res_site = res_site.upper()\n",
    "res_site = str(res_site)\n",
    "# 자르는 시퀀스 처리\n",
    "cut_feature = enzyme_table.cut_feature[(enzyme_table['Enzyme'] == enzyme)]\n",
    "cut_feature = cut_feature.to_string(index=False)\n",
    "cut_feature = str(cut_feature)\n",
    "# blunt or sticky(나중에 저장 기능 추가할 때 넣을 예정입니다)"
   ]
  },
  {
   "cell_type": "code",
   "execution_count": null,
   "id": "5258cf76",
   "metadata": {
    "scrolled": true
   },
   "outputs": [],
   "source": [
    "with open ('Result_{0}-{1}-{2}_{3}-{4}.txt'.format(year,month,day,enzyme,sequence_name),'w',encoding='utf-8') as f: \n",
    "    Findall = re.findall(res_find,sequence)\n",
    "    if Findall:\n",
    "        site_count = 0\n",
    "        res_loc = 0\n",
    "        res_loc_list = []\n",
    "        cut_location = cut_func(res_find,sequence)\n",
    "        cut_count = len(Findall)\n",
    "        if len(set(Findall)) > 1:\n",
    "            for i in Findall:\n",
    "                if i in sequence:\n",
    "                    sequence = sequence.replace(i,\"-\"+i+\"-\")\n",
    "        else: \n",
    "            sequence = sequence.replace(res_find,res_site)\n",
    "        res_loc_list = ', '.join(res_loc_list)\n",
    "        f.write(\"{0} | {1} | {2} | {3} times cut\\n\".format(enzyme,res_site,cut_feature,cut_count))\n",
    "        f.write(\"Cut location(bp): {0} \\n\".format(res_loc_list))\n",
    "        f.write('Sequence name: {0} \\n{1}'.format(sequence_name,sequence))\n",
    "        print('Your result savec by Result_{0}-{1}-{2}_{3}-{4}.txt. '.format(year,month,day,enzyme,sequence_name))\n",
    "        f.close()\n",
    "        # DB에 효소가 있고 일치하는 시퀀스가 있을 때\n",
    "    elif not Findall:  \n",
    "        print(\"No restriction site in this sequence. \")\n",
    "        f.write(\"{0} | {1} | {2} | 0 times cut\\n\".format(enzyme,res_site,cut_feature))\n",
    "        f.write('Sequence name: {0} \\n'.format(sequence_name))\n",
    "        f.write(\"This restricion enzyme never cut this sequence. \")\n",
    "        f.close()\n",
    "        # DB에 효소가 있으나 일치하는 시퀀스가 없을 때\n",
    "    else:\n",
    "        print(\"No data in database. \")\n",
    "        f.write(\"{0} \\n\".format(enzyme))\n",
    "        f.write(\"This restriction enzyme not entried in database. \")\n",
    "        f.close()\n",
    "        # DB에 효소가 없을 때"
   ]
  },
  {
   "cell_type": "code",
   "execution_count": null,
   "id": "dd66f12d",
   "metadata": {},
   "outputs": [],
   "source": []
  }
 ],
 "metadata": {
  "kernelspec": {
   "display_name": "Python 3 (ipykernel)",
   "language": "python",
   "name": "python3"
  },
  "language_info": {
   "codemirror_mode": {
    "name": "ipython",
    "version": 3
   },
   "file_extension": ".py",
   "mimetype": "text/x-python",
   "name": "python",
   "nbconvert_exporter": "python",
   "pygments_lexer": "ipython3",
   "version": "3.8.12"
  }
 },
 "nbformat": 4,
 "nbformat_minor": 5
}
