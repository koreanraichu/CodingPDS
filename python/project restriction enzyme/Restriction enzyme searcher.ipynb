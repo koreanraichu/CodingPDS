{
 "cells": [
  {
   "cell_type": "code",
   "execution_count": null,
   "id": "354381f0",
   "metadata": {},
   "outputs": [],
   "source": [
    "import pandas as pd # 가라 판다스!!! \n",
    "import re # 정규식용 모듈\n",
    "enzyme_table = pd.read_csv('/home/koreanraichu/restriction_merge.csv')\n",
    "# 통합 DB 모셔왔습니다 선생님. "
   ]
  },
  {
   "cell_type": "code",
   "execution_count": null,
   "id": "f6027470",
   "metadata": {},
   "outputs": [],
   "source": [
    "def SeqtoString (a):\n",
    "    a = enzyme_table.sequence[(enzyme_table['Enzyme'] == enzyme)]\n",
    "    a = a.to_string(index = False)\n",
    "    a = str(a).strip()\n",
    "    return a\n",
    "def SitetoString (a):\n",
    "    a = enzyme_table.restriction_site[(enzyme_table['Enzyme'] == enzyme)]\n",
    "    a = a.to_string(index = False)\n",
    "    a = str(a).strip()\n",
    "    return a\n",
    "def NEB_selling (a):\n",
    "    a = enzyme_table.NEB_sell[(enzyme_table['Enzyme'] == enzyme)]\n",
    "    a = a.to_string(index = False)\n",
    "    a = str(a).strip()\n",
    "    return a\n",
    "# 함수 가즈아!!! "
   ]
  },
  {
   "cell_type": "code",
   "execution_count": null,
   "id": "192ccd9f",
   "metadata": {},
   "outputs": [],
   "source": [
    "cut_filter = input(\"Sticky로 자르는 제한효소만 보고 싶으면 sticky, Blunt로 자르는 제한효소만 보고 싶으면 blunt, Nicked로 자르는 제한효소만 보고 싶으면 nicked를 입력해주세요. \")\n",
    "cut_filter = cut_filter.capitalize()\n",
    "# Cut feature에 대한 코드. DNA가 Double strand일 때 Nicked는 한 쪽만 달랑달랑하게 자릅니다. \n",
    "# 그러니까 대충 해리포터 시리즈에 나오는 목이 달랑달랑한 닉같이 DNA가 달랑달랑한거죠. \n",
    "if cut_filter == 'Sticky':\n",
    "    enzyme_table = enzyme_table[enzyme_table['cut_feature']== 'Sticky']\n",
    "    enzyme_table.reset_index(inplace=True)\n",
    "elif cut_filter == 'Blunt':\n",
    "    enzyme_table = enzyme_table[enzyme_table['cut_feature']== 'Blunt']\n",
    "    enzyme_table.reset_index(inplace=True)\n",
    "elif cut_filter == 'Nicked':\n",
    "    enzyme_table = enzyme_table[enzyme_table['cut_feature']== 'Nicked']\n",
    "    enzyme_table.reset_index(inplace=True)\n",
    "else: \n",
    "    cut_filter = \"All feature\"\n",
    "    pass"
   ]
  },
  {
   "cell_type": "code",
   "execution_count": null,
   "id": "1c66bb97",
   "metadata": {},
   "outputs": [],
   "source": [
    "NEB_filter = input(\"혹시 NEB에서 취급하는 효소들만 보실거라면 NEB를 입력해주세요. \")\n",
    "NEB_filter = NEB_filter.upper()\n",
    "# NEB cutter에서 기본적으로 시퀀스 입력하면 나오는 효소들만 보여줍니다. (NEB에서 파는 애들만)\n",
    "if NEB_filter == \"NEB\":\n",
    "    enzyme_table = enzyme_table[enzyme_table['NEB_sell']== 'Yes']\n",
    "    enzyme_table.reset_index(inplace=True)\n",
    "else: \n",
    "    NEB_filter = \"All\"\n",
    "    pass"
   ]
  },
  {
   "cell_type": "code",
   "execution_count": null,
   "id": "cee628af",
   "metadata": {
    "scrolled": true
   },
   "outputs": [],
   "source": [
    "keyword = input(\"효소 이름으로 찾으실거면 enzyme을, restriction site sequence로 찾으실거면 sequence를 입력해주세요. 혹시 찾고자 하는 효소 이름이 명확하지 않으시다면 name을 입력해주세요. \")\n",
    "if keyword == \"enzyme\":\n",
    "    enzyme = input(\"찾고자 하는 효소를 입력해주세요: \")\n",
    "elif keyword == \"sequence\":\n",
    "    seq = input(\"찾고자 하는 restriction site sequence를 입력해주세요: \")\n",
    "elif keyword == \"name\":\n",
    "    enzyme_RE = input(\"효소의 이름이 뭘로 시작하나요? \")\n",
    "    enzyme_RE = enzyme_RE.upper()\n",
    "    enzyme_RE_2 = '^' + enzyme_RE\n",
    "    # 정규식에서 ~로 시작하는 걸 찾을때는 ^를 씁니다. \n",
    "else: \n",
    "    print(\"다시 입력해주세요. \")\n",
    "# 효소 이름으로 찾느냐, 시퀀스로 찾느냐에 따라 검색 결과가 다릅니다. "
   ]
  },
  {
   "cell_type": "code",
   "execution_count": null,
   "id": "4dc92770",
   "metadata": {
    "scrolled": true
   },
   "outputs": [],
   "source": [
    "print(\"Filter selected: {0}\".format(cut_filter))\n",
    "print(\"How to read: Name | Sequence | Cut | Selling in NEB?\\n\")\n",
    "# filter 정보는 로직과 상관없이 출력됩니다. \n",
    "if keyword == \"enzyme\":\n",
    "    find_seq = SeqtoString(enzyme)\n",
    "    Site_seq = SitetoString(enzyme)\n",
    "    NEB_sell = NEB_selling(enzyme)\n",
    "    Iso = []\n",
    "    Neo = []\n",
    "    print(\"{0} | {1} | {2} | {3} | Input enzyme\".format(enzyme,find_seq,Site_seq,NEB_sell))\n",
    "    for i in range(len(enzyme_table)):\n",
    "        DB_enzyme = str(enzyme_table['Enzyme'][i]).strip()\n",
    "        DB_seq = str(enzyme_table['sequence'][i]).strip().upper()\n",
    "        DB_site = str(enzyme_table['restriction_site'][i]).strip().upper()\n",
    "        if find_seq == str(DB_seq) and DB_enzyme != enzyme:\n",
    "            if Site_seq == DB_site:\n",
    "                Iso.append(DB_enzyme)\n",
    "                print(\"{0} | {1} | {2} | {3} | Isoschizomer\".format(DB_enzyme,DB_seq,DB_site,NEB_sell))\n",
    "                # 인식하는 시퀀스와 자르는 방식이 같은 제한효소\n",
    "            elif Site_seq != DB_site: \n",
    "                Neo.append(DB_enzyme)\n",
    "                print(\"{0} | {1} | {2} | {3} | Neoschizomer\".format(DB_enzyme,DB_seq,DB_site,NEB_sell))\n",
    "                # 인식하는 시퀀스는 같으나 자르는 방식이 다른 제한효소\n",
    "        elif find_seq == str(DB_seq) and DB_enzyme == enzyme:\n",
    "            pass\n",
    "        else: \n",
    "            pass\n",
    "# 여기까지는 효소 이름으로 검색할 때의 코드\n",
    "elif keyword == \"sequence\": \n",
    "    find_seq = seq\n",
    "    print(\"Searched by: {0}\".format(seq))\n",
    "    for i in range(len(enzyme_table)):\n",
    "        DB_enzyme = str(enzyme_table['Enzyme'][i]).strip()\n",
    "        DB_seq = str(enzyme_table['sequence'][i]).strip().upper()\n",
    "        DB_site = str(enzyme_table['restriction_site'][i]).strip().upper()\n",
    "        DB_NEB = str(str(enzyme_table['NEB_sell'][i]).strip())\n",
    "        if find_seq == DB_seq:\n",
    "            print(\"{0} | {1} | {2} | {3}\".format(DB_enzyme,DB_seq,DB_site,DB_NEB))\n",
    "        else:\n",
    "            pass\n",
    "# 여기까지는 인식 시퀀스로 검색할 때의 코드\n",
    "else: \n",
    "    print(\"Enzyme with start with {0}\".format(enzyme_RE))\n",
    "    for i in range(len(enzyme_table)):\n",
    "        DB_enzyme = str(enzyme_table['Enzyme'][i]).strip()\n",
    "        DB_seq = str(enzyme_table['sequence'][i]).strip().upper()\n",
    "        DB_site = str(enzyme_table['restriction_site'][i]).strip().upper()\n",
    "        DB_NEB = str(str(enzyme_table['NEB_sell'][i]).strip())\n",
    "        if re.search(enzyme_RE_2,DB_enzyme):\n",
    "            print(\"{0} | {1} | {2} | {3}\".format(DB_enzyme,DB_seq,DB_site,DB_NEB))\n",
    "# 간단 검색(머릿글자)\n",
    "# 참고로 테스트 결과 정규식 문법이 먹혔습니다... 어째서냐... \n",
    "if keyword == \"enzyme\":\n",
    "    if Iso == []:\n",
    "        Iso.append(\"No data\")\n",
    "    elif Neo == []:\n",
    "        Neo.append(\"No data\")\n",
    "    else: \n",
    "        pass\n",
    "    Iso = ', '.join(Iso)\n",
    "    Neo = ', '.join(Neo)\n",
    "    print(\"\\nIsoschizomer: {0} \\nNeoschizomer: {1}\".format(Iso,Neo))\n",
    "    # 실제로 Isoschizomer인데도 Neoscizomer로 표기하는 문제가 있습니다. (BamHI-Nsp29132OO)\n",
    "    # DB 수정하니까 해결되는건 뭔 경우냐... \n",
    "else: \n",
    "    pass\n",
    "# 시퀀스로 검색하셨거나 정규식 검색을 사용하셨으면 이 부분은 넘어갑니다. "
   ]
  },
  {
   "cell_type": "code",
   "execution_count": null,
   "id": "809f36ee",
   "metadata": {},
   "outputs": [],
   "source": []
  }
 ],
 "metadata": {
  "kernelspec": {
   "display_name": "Python 3 (ipykernel)",
   "language": "python",
   "name": "python3"
  },
  "language_info": {
   "codemirror_mode": {
    "name": "ipython",
    "version": 3
   },
   "file_extension": ".py",
   "mimetype": "text/x-python",
   "name": "python",
   "nbconvert_exporter": "python",
   "pygments_lexer": "ipython3",
   "version": "3.8.12"
  }
 },
 "nbformat": 4,
 "nbformat_minor": 5
}
