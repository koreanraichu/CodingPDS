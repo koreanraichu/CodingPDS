{
 "cells": [
  {
   "cell_type": "code",
   "execution_count": null,
   "id": "6b94008d-87f1-4c9e-a097-3854fb276192",
   "metadata": {},
   "outputs": [],
   "source": [
    "import pandas as pd\n",
    "import numpy as np"
   ]
  },
  {
   "cell_type": "code",
   "execution_count": null,
   "id": "cca8e545-106e-4421-bbf8-d85e1c37492c",
   "metadata": {},
   "outputs": [],
   "source": [
    "read_csv=pd.read_csv(\"/home/koreanraichu/Others/csv/Influenza.csv\",sep=\";\")"
   ]
  },
  {
   "cell_type": "code",
   "execution_count": null,
   "id": "9c771678-20d7-4232-bbbf-d44c2a0bc128",
   "metadata": {},
   "outputs": [],
   "source": [
    "dropna_csv=read_csv.dropna()"
   ]
  },
  {
   "cell_type": "code",
   "execution_count": null,
   "id": "f4bd356b-2231-40cb-9a63-617ff29d9eb1",
   "metadata": {},
   "outputs": [],
   "source": [
    "print(dropna_csv)"
   ]
  },
  {
   "cell_type": "code",
   "execution_count": null,
   "id": "fe8527cc-205b-48a4-859f-3e239e52119b",
   "metadata": {
    "scrolled": true
   },
   "outputs": [],
   "source": [
    "dropna_csv.groupby(['Max Phase','Molecular Weight']).count()\n",
    "# 중구난방... "
   ]
  },
  {
   "cell_type": "code",
   "execution_count": null,
   "id": "85899156-8cc8-44f2-90e1-f2a78540e1fa",
   "metadata": {},
   "outputs": [],
   "source": [
    "print(dropna_csv['Molecular Weight'])"
   ]
  },
  {
   "cell_type": "code",
   "execution_count": null,
   "id": "e6da7402",
   "metadata": {},
   "outputs": [],
   "source": [
    "bin=list(range(0,1300,200))  \n",
    "label=[\"< 200\",\"< 400\",\"< 600\",\"< 800\",\"< 1000\",\"< 1200\"]"
   ]
  },
  {
   "cell_type": "code",
   "execution_count": null,
   "id": "fcbc0c70",
   "metadata": {},
   "outputs": [],
   "source": [
    "dropna_csv['Molecular Weight']=pd.cut(dropna_csv['Molecular Weight'],bin,labels=label)\n",
    "# 일단 잘라봅시다 "
   ]
  },
  {
   "cell_type": "code",
   "execution_count": null,
   "id": "88fcfd61",
   "metadata": {},
   "outputs": [],
   "source": [
    "print(dropna_csv['Molecular Weight'])\n",
    "# 위에 생성한 간격과 라벨을 바탕으로 cut한 결과 "
   ]
  },
  {
   "cell_type": "code",
   "execution_count": null,
   "id": "6db19fdd",
   "metadata": {},
   "outputs": [],
   "source": [
    "dropna_csv.groupby(['Max Phase','Molecular Weight']).count()\n",
    "# Cut하고 다시 모으니까 깔-끔하다. "
   ]
  },
  {
   "cell_type": "code",
   "execution_count": null,
   "id": "d5181e0c",
   "metadata": {},
   "outputs": [],
   "source": []
  }
 ],
 "metadata": {
  "kernelspec": {
   "display_name": "Python 3 (ipykernel)",
   "language": "python",
   "name": "python3"
  },
  "language_info": {
   "codemirror_mode": {
    "name": "ipython",
    "version": 3
   },
   "file_extension": ".py",
   "mimetype": "text/x-python",
   "name": "python",
   "nbconvert_exporter": "python",
   "pygments_lexer": "ipython3",
   "version": "3.8.12"
  }
 },
 "nbformat": 4,
 "nbformat_minor": 5
}
