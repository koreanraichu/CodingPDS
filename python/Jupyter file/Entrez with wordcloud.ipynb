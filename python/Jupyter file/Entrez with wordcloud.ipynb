{
 "cells": [
  {
   "cell_type": "code",
   "execution_count": null,
   "id": "1e4de1c0",
   "metadata": {},
   "outputs": [],
   "source": [
    "from Bio import Entrez\n",
    "from wordcloud import WordCloud\n",
    "from wordcloud import STOPWORDS\n",
    "import matplotlib.pyplot as plot\n",
    "from PIL import Image\n",
    "import numpy as np"
   ]
  },
  {
   "cell_type": "code",
   "execution_count": null,
   "id": "23636bf7",
   "metadata": {},
   "outputs": [],
   "source": [
    "Entrez.email = \"blackholekun@gmail.com\""
   ]
  },
  {
   "cell_type": "code",
   "execution_count": null,
   "id": "7e5e8ae7",
   "metadata": {},
   "outputs": [],
   "source": [
    "handle = Entrez.esearch(db=\"pubmed\", term=\"hormone[TITLE] AND 2022[YEAR]\",retmax=\"125\")"
   ]
  },
  {
   "cell_type": "code",
   "execution_count": null,
   "id": "fa333591",
   "metadata": {},
   "outputs": [],
   "source": [
    "record = Entrez.read(handle)\n",
    "print(record['IdList'])"
   ]
  },
  {
   "cell_type": "code",
   "execution_count": null,
   "id": "b41b3e5b",
   "metadata": {},
   "outputs": [],
   "source": [
    "IdList=list(record['IdList'])\n",
    "title=[]\n",
    "for i in range(len(IdList)): \n",
    "    handle = Entrez.esummary(db=\"pubmed\", id=IdList[i], retmode=\"xml\")\n",
    "    records = Entrez.parse(handle)  \n",
    "    for record in records:\n",
    "        title.append(record['Title'])    \n",
    "title=''.join(title)  \n",
    "# Notes: 무지하게 오래 걸린다. 실화다. (retmax와 소요시간이 미칠듯이 비례함)"
   ]
  },
  {
   "cell_type": "code",
   "execution_count": null,
   "id": "92d45bc3",
   "metadata": {},
   "outputs": [],
   "source": [
    "image=np.array(Image.open(\"/home/koreanraichu/600px-442Spiritomb.png\"))\n",
    "font_path = '/usr/share/fonts/Pulang.ttf'\n",
    "wordcloud = WordCloud(font_path = font_path,\n",
    "                      background_color=\"#ffffff\",colormap=\"Dark2\",width = 850, height=850,\n",
    "                      mask=image)"
   ]
  },
  {
   "cell_type": "code",
   "execution_count": null,
   "id": "6a31bfff",
   "metadata": {},
   "outputs": [],
   "source": [
    "wordcloud = wordcloud.generate_from_text(title)\n",
    "plot.figure(figsize=(15,15),frameon=False)\n",
    "plot.axis('off')\n",
    "plot.imshow(wordcloud)\n",
    "plot.show()"
   ]
  },
  {
   "cell_type": "code",
   "execution_count": null,
   "id": "d552835a",
   "metadata": {},
   "outputs": [],
   "source": [
    "print(len(IdList))"
   ]
  },
  {
   "cell_type": "code",
   "execution_count": null,
   "id": "7185fa63",
   "metadata": {},
   "outputs": [],
   "source": []
  }
 ],
 "metadata": {
  "kernelspec": {
   "display_name": "Python 3 (ipykernel)",
   "language": "python",
   "name": "python3"
  },
  "language_info": {
   "codemirror_mode": {
    "name": "ipython",
    "version": 3
   },
   "file_extension": ".py",
   "mimetype": "text/x-python",
   "name": "python",
   "nbconvert_exporter": "python",
   "pygments_lexer": "ipython3",
   "version": "3.8.12"
  }
 },
 "nbformat": 4,
 "nbformat_minor": 5
}
