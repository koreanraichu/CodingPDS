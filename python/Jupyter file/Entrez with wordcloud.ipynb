{
 "cells": [
  {
   "cell_type": "code",
   "execution_count": null,
   "id": "1e4de1c0",
   "metadata": {},
   "outputs": [],
   "source": [
    "from Bio import Entrez\n",
    "from wordcloud import WordCloud\n",
    "from wordcloud import STOPWORDS\n",
    "import matplotlib.pyplot as plot\n",
    "from PIL import Image\n",
    "import numpy as np\n",
    "from argparse import FileType\n",
    "import tkinter\n",
    "from tkinter import filedialog\n",
    "# 여기까지 모듈\n",
    "Entrez.email = \"blackholekun@gmail.com\"\n",
    "# 이메일 걍 자기꺼 쓰시면 됩니다\n",
    "term = input(\"Entrez database에서 가져오고 싶은 주제가 뭔가요? (Title로 검색) \\n\")\n",
    "year = input(\"특별히 보고 싶은 년도가 있나요? (optional, 없으면 공백으로 입력해주세요) \\n\")\n",
    "if year: \n",
    "    terms = \"{}[TITLE] AND {}[YEAR]\".format(term,year)\n",
    "else: \n",
    "    terms = \"{}[TITLE]\".format(term)\n",
    "# 년도의 경우 안 볼거면 공백으로 주시면 됩니다. "
   ]
  },
  {
   "cell_type": "code",
   "execution_count": null,
   "id": "7e5e8ae7",
   "metadata": {},
   "outputs": [],
   "source": [
    "handle = Entrez.esearch(db=\"pubmed\", term=terms,retmax=\"125\")"
   ]
  },
  {
   "cell_type": "code",
   "execution_count": null,
   "id": "fa333591",
   "metadata": {},
   "outputs": [],
   "source": [
    "record = Entrez.read(handle)"
   ]
  },
  {
   "cell_type": "code",
   "execution_count": null,
   "id": "b41b3e5b",
   "metadata": {},
   "outputs": [],
   "source": [
    "IdList=list(record['IdList'])\n",
    "title=[]\n",
    "for i in range(len(IdList)): \n",
    "    handle = Entrez.esummary(db=\"pubmed\", id=IdList[i], retmode=\"xml\")\n",
    "    records = Entrez.parse(handle)  \n",
    "    for record in records:\n",
    "        title.append(record['Title'])    \n",
    "title=''.join(title)  \n",
    "# Notes: 무지하게 오래 걸린다. 실화다. (retmax와 소요시간이 미칠듯이 비례함)"
   ]
  },
  {
   "cell_type": "code",
   "execution_count": null,
   "id": "92d45bc3",
   "metadata": {},
   "outputs": [],
   "source": [
    "root = tkinter.Tk()\n",
    "root.withdraw()\n",
    "dir_path = filedialog.askopenfilename(parent=root,initialdir=\"/home/koreanraichu\",title='Please select a directory',filetypes = ((\"*.png\",\"*png\"),(\"*.jpg\",\"*jpg\"),(\"*.gif\",\"*gif\")))\n",
    "image = np.array(Image.open(dir_path)) \n",
    "font_path = '/usr/share/fonts/Pulang.ttf'\n",
    "wordcloud = WordCloud(font_path = font_path,\n",
    "                      background_color=\"#ffffff\",colormap=\"Dark2\",width = 960, height=960,\n",
    "                      mask=image)"
   ]
  },
  {
   "cell_type": "code",
   "execution_count": null,
   "id": "6a31bfff",
   "metadata": {
    "scrolled": true
   },
   "outputs": [],
   "source": [
    "root = tkinter.Tk()\n",
    "root.withdraw()\n",
    "save_path = filedialog.askdirectory()\n",
    "if year:\n",
    "    save_dir = \"{}/{}&{}.png\".format(save_path,term,year)\n",
    "else: \n",
    "    save_dir = \"{}/{}.png\".format(save_path,term)\n",
    "# 얘는 입력하는 단어에 따라 알아서 만들어줍니다. \n",
    "wordcloud = wordcloud.generate_from_text(title)\n",
    "plot.figure(figsize=(15,15),frameon=False)\n",
    "plot.axis('off')\n",
    "plot.imshow(wordcloud)\n",
    "plot.savefig(save_dir)\n",
    "plot.show()\n",
    "print(\"wordcloud saved where {}.png\".format(save_dir))"
   ]
  },
  {
   "cell_type": "code",
   "execution_count": null,
   "id": "d552835a",
   "metadata": {},
   "outputs": [],
   "source": [
    "print(len(IdList))\n",
    "# 혹시 데이터 몇 개 가져왔나 궁금하신 분들만... "
   ]
  },
  {
   "cell_type": "code",
   "execution_count": null,
   "id": "7185fa63",
   "metadata": {},
   "outputs": [],
   "source": []
  }
 ],
 "metadata": {
  "kernelspec": {
   "display_name": "Python 3 (ipykernel)",
   "language": "python",
   "name": "python3"
  },
  "language_info": {
   "codemirror_mode": {
    "name": "ipython",
    "version": 3
   },
   "file_extension": ".py",
   "mimetype": "text/x-python",
   "name": "python",
   "nbconvert_exporter": "python",
   "pygments_lexer": "ipython3",
   "version": "3.8.12"
  }
 },
 "nbformat": 4,
 "nbformat_minor": 5
}
