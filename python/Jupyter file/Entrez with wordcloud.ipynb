{
 "cells": [
  {
   "cell_type": "code",
   "execution_count": null,
   "id": "1e4de1c0",
   "metadata": {},
   "outputs": [],
   "source": [
    "from Bio import Entrez\n",
    "from wordcloud import WordCloud\n",
    "from wordcloud import STOPWORDS\n",
    "import matplotlib.pyplot as plot\n",
    "from PIL import Image\n",
    "import numpy as np\n",
    "from argparse import FileType\n",
    "import tkinter\n",
    "from tkinter import filedialog\n",
    "import re\n",
    "# 여기까지 모듈\n",
    "Entrez.email = \"blackholekun@gmail.com\"\n",
    "# 이메일 걍 자기꺼 쓰시면 됩니다\n",
    "terms = input(\"검색어와 조건을 입력해주세요. 예를 들어서 박테리아가 제목인 논문을 찾으실거면 Bacteria[TITLE] 이런 식으로요: \\n\")"
   ]
  },
  {
   "cell_type": "code",
   "execution_count": null,
   "id": "7e5e8ae7",
   "metadata": {},
   "outputs": [],
   "source": [
    "handle = Entrez.esearch(db=\"pubmed\", term=terms,retmax=\"125\")"
   ]
  },
  {
   "cell_type": "code",
   "execution_count": null,
   "id": "fa333591",
   "metadata": {},
   "outputs": [],
   "source": [
    "record = Entrez.read(handle)"
   ]
  },
  {
   "cell_type": "code",
   "execution_count": null,
   "id": "b41b3e5b",
   "metadata": {},
   "outputs": [],
   "source": [
    "IdList=list(record['IdList'])\n",
    "print(\"{}개의 데이터를 찾았습니다. 잠시만 기다려주세요. \".format(len(IdList)))\n",
    "title=[]\n",
    "for i in range(len(IdList)): \n",
    "    handle = Entrez.esummary(db=\"pubmed\", id=IdList[i], retmode=\"xml\")\n",
    "    records = Entrez.parse(handle)  \n",
    "    for record in records:\n",
    "        title.append(record['Title'])    \n",
    "title=''.join(title)  \n",
    "# Notes: 무지하게 오래 걸린다. 실화다. (retmax와 소요시간이 미칠듯이 비례함)"
   ]
  },
  {
   "cell_type": "code",
   "execution_count": null,
   "id": "92d45bc3",
   "metadata": {},
   "outputs": [],
   "source": [
    "root = tkinter.Tk()\n",
    "root.withdraw()\n",
    "dir_path = filedialog.askopenfilename(parent=root,initialdir=\"/home/koreanraichu\",title='Please select a directory',filetypes = ((\"*.png\",\"*png\"),(\"*.jpg\",\"*jpg\"),(\"*.gif\",\"*gif\")))\n",
    "image = np.array(Image.open(dir_path)) \n",
    "font_path = '/usr/share/fonts/Pulang.ttf'\n",
    "wordcloud = WordCloud(font_path = font_path,\n",
    "                      background_color=\"#ffffff\",colormap=\"Dark2\",width = 960, height=960,\n",
    "                      mask=image)"
   ]
  },
  {
   "cell_type": "code",
   "execution_count": null,
   "id": "6a31bfff",
   "metadata": {
    "scrolled": true
   },
   "outputs": [],
   "source": [
    "terms = terms.replace('[','-')\n",
    "terms = terms.replace(']','-')\n",
    "# 이스케이프 시퀀스 멕여도 안돼서 결국 이게 최선이었음... \n",
    "escape_terms = re.findall('-.{0,5}-',terms)\n",
    "for i in escape_terms:\n",
    "    terms = terms.replace(i,\"\")"
   ]
  },
  {
   "cell_type": "code",
   "execution_count": null,
   "id": "d552835a",
   "metadata": {
    "scrolled": true
   },
   "outputs": [],
   "source": [
    "root = tkinter.Tk()\n",
    "root.withdraw()\n",
    "save_path = filedialog.askdirectory()\n",
    "save_dir = \"{}/{}.png\".format(save_path,terms)\n",
    "# 얘는 입력하는 단어에 따라 알아서 만들어줍니다. \n",
    "wordcloud = wordcloud.generate_from_text(title)\n",
    "plot.figure(figsize=(15,15),frameon=False)\n",
    "plot.axis('off')\n",
    "plot.imshow(wordcloud)\n",
    "plot.savefig(save_dir,bbox_inches='tight')\n",
    "plot.show()\n",
    "print(\"wordcloud saved where {}.png\".format(save_dir))"
   ]
  },
  {
   "cell_type": "code",
   "execution_count": null,
   "id": "7185fa63",
   "metadata": {},
   "outputs": [],
   "source": []
  }
 ],
 "metadata": {
  "kernelspec": {
   "display_name": "Python 3 (ipykernel)",
   "language": "python",
   "name": "python3"
  },
  "language_info": {
   "codemirror_mode": {
    "name": "ipython",
    "version": 3
   },
   "file_extension": ".py",
   "mimetype": "text/x-python",
   "name": "python",
   "nbconvert_exporter": "python",
   "pygments_lexer": "ipython3",
   "version": "3.8.12"
  }
 },
 "nbformat": 4,
 "nbformat_minor": 5
}
