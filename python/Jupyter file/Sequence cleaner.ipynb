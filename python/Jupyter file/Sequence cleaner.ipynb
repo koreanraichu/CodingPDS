{
 "cells": [
  {
   "cell_type": "code",
   "execution_count": null,
   "id": "347258fa",
   "metadata": {},
   "outputs": [],
   "source": [
    "sequence=input(\"Input sequence: \")\n",
    "# 자를 시퀀스"
   ]
  },
  {
   "cell_type": "code",
   "execution_count": null,
   "id": "d8a9a52b",
   "metadata": {},
   "outputs": [],
   "source": [
    "sequence=sequence.replace(' ','')\n",
    "sequence=sequence.replace('\\n','')\n",
    "# 공백 및 개행문자 제거"
   ]
  },
  {
   "cell_type": "code",
   "execution_count": null,
   "id": "ee043579",
   "metadata": {},
   "outputs": [],
   "source": [
    "print(sequence)\n",
    "# 후 출력(복사는 셀프)"
   ]
  },
  {
   "cell_type": "code",
   "execution_count": null,
   "id": "2acc225b",
   "metadata": {},
   "outputs": [],
   "source": []
  }
 ],
 "metadata": {
  "kernelspec": {
   "display_name": "Python 3 (ipykernel)",
   "language": "python",
   "name": "python3"
  },
  "language_info": {
   "codemirror_mode": {
    "name": "ipython",
    "version": 3
   },
   "file_extension": ".py",
   "mimetype": "text/x-python",
   "name": "python",
   "nbconvert_exporter": "python",
   "pygments_lexer": "ipython3",
   "version": "3.8.12"
  }
 },
 "nbformat": 4,
 "nbformat_minor": 5
}
