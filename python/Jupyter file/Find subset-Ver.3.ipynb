{
 "cells": [
  {
   "cell_type": "code",
   "execution_count": null,
   "id": "08326a5f",
   "metadata": {
    "scrolled": true
   },
   "outputs": [],
   "source": [
    "text=input(\"Insert text: \")\n",
    "print(text)  \n",
    "# 일단 소규모로 먼저 진행해보자. "
   ]
  },
  {
   "cell_type": "code",
   "execution_count": null,
   "id": "b95143ca",
   "metadata": {},
   "outputs": [],
   "source": [
    "# 전체 텍스트를 slicing하는 for문. 이 안에는 찾을 영역과 찾아야 할 영역이 포함되어 있다. \n",
    "# 한 글자일때는 찾을 영역이 존재하지만 찾아야 하는 글자가 없으므로 첫 글자는 0이다. \n",
    "find_list=[]\n",
    "length=len(text)\n",
    "for i in range(1,length+1):\n",
    "    if len(text[0:i]) == 1: \n",
    "        find_list.append(0)\n",
    "    else:\n",
    "        text_sub=text[0:i] # 전체 텍스트\n",
    "        find=text_sub[0:i-1]# 찾을 범위 \n",
    "        max_list=[]\n",
    "        for j in range(1,len(find)+1):\n",
    "            subset=text_sub[j:] # 찾을 텍스트\n",
    "            find_values=0\n",
    "            if subset in find:\n",
    "                max_list.append(len(subset))\n",
    "            else: \n",
    "                max_list.append(0)\n",
    "            max_list=set(max_list)\n",
    "            max_list=list(max_list)\n",
    "            max_values=max(max_list) # 리스트에서 최대값을 추출한다\n",
    "        if max_values == 10:\n",
    "            find_list.append(\"A\")\n",
    "        if max_values == 11:\n",
    "            find_list.append(\"B\")\n",
    "        if max_values == 12:\n",
    "            find_list.append(\"C\")\n",
    "        if max_values == 13: \n",
    "            find_list.append(\"D\")\n",
    "        if max_values == 14:\n",
    "            find_list.append(\"E\")\n",
    "        if max_values == 15:\n",
    "            find_list.append(\"F\")\n",
    "        else:\n",
    "            find_list.append(max_values) # 넣어주시죠 \n",
    "# 이상하다... 왜 제시한거랑 결과가 다르지? "
   ]
  },
  {
   "cell_type": "code",
   "execution_count": null,
   "id": "bb287e45",
   "metadata": {
    "scrolled": true
   },
   "outputs": [],
   "source": [
    "find_text=''.join(map(str,find_list))\n",
    "# 출력할 문자열을 붙여준다. (데이터 저장 형태가 리스트였음)\n",
    "print(find_text)"
   ]
  },
  {
   "cell_type": "code",
   "execution_count": null,
   "id": "b73ba393",
   "metadata": {},
   "outputs": [],
   "source": [
    "with open ('Result.txt','w',encoding='utf-8') as result_write:\n",
    "    result_write.write('Input sequence: ')\n",
    "    result_write.write(text)\n",
    "    result_write.write('\\nOutput: ')\n",
    "    result_write.write(find_text)  \n",
    "# reference: https://smart-factory-lee-joon-ho.tistory.com/200"
   ]
  },
  {
   "cell_type": "code",
   "execution_count": null,
   "id": "f02ec3ac",
   "metadata": {},
   "outputs": [],
   "source": []
  }
 ],
 "metadata": {
  "kernelspec": {
   "display_name": "Python 3 (ipykernel)",
   "language": "python",
   "name": "python3"
  },
  "language_info": {
   "codemirror_mode": {
    "name": "ipython",
    "version": 3
   },
   "file_extension": ".py",
   "mimetype": "text/x-python",
   "name": "python",
   "nbconvert_exporter": "python",
   "pygments_lexer": "ipython3",
   "version": "3.8.12"
  }
 },
 "nbformat": 4,
 "nbformat_minor": 5
}
