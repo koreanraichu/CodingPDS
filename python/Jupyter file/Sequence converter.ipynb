{
 "cells": [
  {
   "cell_type": "code",
   "execution_count": null,
   "id": "12950045",
   "metadata": {},
   "outputs": [],
   "source": [
    "a = input(\"insert sequence:\")\n",
    "conversion_4=[]"
   ]
  },
  {
   "cell_type": "code",
   "execution_count": null,
   "id": "88af8359",
   "metadata": {},
   "outputs": [],
   "source": [
    "for i in a: \n",
    "    if i == \"A\":\n",
    "        conversion_4.append('00')\n",
    "    if i == \"T\" or i == \"U\":\n",
    "        conversion_4.append('11')\n",
    "    if i == \"G\":\n",
    "        conversion_4.append('01')\n",
    "    if i == \"C\":\n",
    "        conversion_4.append('10')"
   ]
  },
  {
   "cell_type": "code",
   "execution_count": null,
   "id": "d7549685",
   "metadata": {},
   "outputs": [],
   "source": [
    "conversion_4=''.join(conversion_4)\n",
    "print(conversion_4)"
   ]
  },
  {
   "cell_type": "code",
   "execution_count": null,
   "id": "c7c57a7f",
   "metadata": {},
   "outputs": [],
   "source": [
    "# 심심해서 만들어본 DNA 시퀀스 염기를 2바이트짜리 4진수로 바꿔주는 코드(기본 염기는 어차피 네개라 수동입력입니다)"
   ]
  }
 ],
 "metadata": {
  "kernelspec": {
   "display_name": "Python 3 (ipykernel)",
   "language": "python",
   "name": "python3"
  },
  "language_info": {
   "codemirror_mode": {
    "name": "ipython",
    "version": 3
   },
   "file_extension": ".py",
   "mimetype": "text/x-python",
   "name": "python",
   "nbconvert_exporter": "python",
   "pygments_lexer": "ipython3",
   "version": "3.8.12"
  }
 },
 "nbformat": 4,
 "nbformat_minor": 5
}
