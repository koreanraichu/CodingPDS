{
 "cells": [
  {
   "cell_type": "code",
   "execution_count": null,
   "id": "354381f0",
   "metadata": {},
   "outputs": [],
   "source": [
    "import pandas as pd\n",
    "enzyme_table = pd.read_csv('/home/koreanraichu/restriction.csv')\n",
    "# 이쪽은 Finder나 cutter에도 쓰이는 그 DB가 맞습니다. \n",
    "enzyme_table2 = pd.read_csv('/home/koreanraichu/restriction_RE.csv')\n",
    "# 이쪽은 restriction site나 cut site에 A,T,G,C가 아닌 다른 알파벳이 들어가기 때문에 여기서 처음 불러오는 DB입니다. \n",
    "enzyme_table = pd.concat([enzyme_table,enzyme_table2])\n",
    "enzyme_table = enzyme_table.sort_values('Enzyme')\n",
    "enzyme_table.reset_index(inplace=True)\n",
    "# 니네는 꼭 합치고 나면 인덱스도 바꿔줘야되더라... "
   ]
  },
  {
   "cell_type": "code",
   "execution_count": null,
   "id": "cee628af",
   "metadata": {
    "scrolled": false
   },
   "outputs": [],
   "source": [
    "enzyme = input(\"찾고자 하는 효소를 입력해주세요: \")"
   ]
  },
  {
   "cell_type": "code",
   "execution_count": null,
   "id": "9cda6981",
   "metadata": {
    "scrolled": true
   },
   "outputs": [],
   "source": [
    "def SeqtoString (a):\n",
    "    a = enzyme_table.sequence[(enzyme_table['Enzyme'] == enzyme)]\n",
    "    a = a.to_string(index = False)\n",
    "    a = str(a).strip()\n",
    "    return a\n",
    "def SitetoString (a):\n",
    "    a = enzyme_table.restriction_site[(enzyme_table['Enzyme'] == enzyme)]\n",
    "    a = a.to_string(index = False)\n",
    "    a = str(a).strip()\n",
    "    return a\n",
    "# 함수 가즈아!!! "
   ]
  },
  {
   "cell_type": "code",
   "execution_count": null,
   "id": "4dc92770",
   "metadata": {
    "scrolled": true
   },
   "outputs": [],
   "source": [
    "find_seq = SeqtoString(enzyme)\n",
    "Site_seq = SitetoString(enzyme)\n",
    "Iso = []\n",
    "Neo = []\n",
    "print(\"{0} | {1} | {2} | Input enzyme\".format(enzyme,find_seq,Site_seq))\n",
    "for i in range(len(enzyme_table)):\n",
    "    DB_enzyme = str(enzyme_table['Enzyme'][i]).strip()\n",
    "    DB_seq = str(enzyme_table['sequence'][i]).strip().upper()\n",
    "    DB_site = str(enzyme_table['restriction_site'][i]).strip().upper()\n",
    "    if find_seq == str(DB_seq) and DB_enzyme != enzyme:\n",
    "        if Site_seq == DB_site:\n",
    "            Iso.append(DB_enzyme)\n",
    "            print(\"{0} | {1} | {2} | Isoschizomer\".format(DB_enzyme,DB_seq,DB_site))\n",
    "            # 인식하는 시퀀스와 자르는 방식이 같은 제한효소\n",
    "        elif Site_seq != DB_site: \n",
    "            Neo.append(DB_enzyme)\n",
    "            print(\"{0} | {1} | {2} | Neoschizomer\".format(DB_enzyme,DB_seq,DB_site))\n",
    "            # 인식하는 시퀀스는 같으나 자르는 방식이 다른 제한효소\n",
    "    elif find_seq == str(DB_seq) and DB_enzyme == enzyme:\n",
    "        pass\n",
    "    else: \n",
    "        pass\n",
    "Iso = ', '.join(Iso)\n",
    "Neo = ', '.join(Neo)\n",
    "print(\"Isoschizomer: {0} \\nNeoschizomer: {1}\".format(Iso,Neo))\n",
    "# 실제로 Isoschizomer인데도 Neoscizomer로 표기하는 문제가 있습니다. (BamHI-Nsp29132OO)"
   ]
  },
  {
   "cell_type": "code",
   "execution_count": null,
   "id": "0413b808",
   "metadata": {},
   "outputs": [],
   "source": []
  }
 ],
 "metadata": {
  "kernelspec": {
   "display_name": "Python 3 (ipykernel)",
   "language": "python",
   "name": "python3"
  },
  "language_info": {
   "codemirror_mode": {
    "name": "ipython",
    "version": 3
   },
   "file_extension": ".py",
   "mimetype": "text/x-python",
   "name": "python",
   "nbconvert_exporter": "python",
   "pygments_lexer": "ipython3",
   "version": "3.8.12"
  }
 },
 "nbformat": 4,
 "nbformat_minor": 5
}
