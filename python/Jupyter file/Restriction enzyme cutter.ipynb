{
 "cells": [
  {
   "cell_type": "code",
   "execution_count": null,
   "id": "17bd38f3",
   "metadata": {},
   "outputs": [],
   "source": [
    "import pandas as pd\n",
    "from datetime import datetime"
   ]
  },
  {
   "cell_type": "code",
   "execution_count": null,
   "id": "c47246aa",
   "metadata": {},
   "outputs": [],
   "source": [
    "year = datetime.today().year\n",
    "month = datetime.today().month\n",
    "day = datetime.today().day"
   ]
  },
  {
   "cell_type": "code",
   "execution_count": null,
   "id": "3165d299",
   "metadata": {
    "scrolled": false
   },
   "outputs": [],
   "source": [
    "enzyme_table = pd.read_csv('/home/koreanraichu/restriction.csv')\n",
    "enzyme_table = enzyme_table.sort_values('Enzyme')\n",
    "# Finder에도 쓰이는 '그' DB 맞습니다. 현재 수동 구축 중... \n",
    "print(enzyme_table)\n",
    "print(len(enzyme_table))"
   ]
  },
  {
   "cell_type": "code",
   "execution_count": null,
   "id": "1a187935",
   "metadata": {
    "scrolled": true
   },
   "outputs": [],
   "source": [
    "filter = input(\"sticky로 자르는 제한효소만 보고 싶으면 sticky, blunt로 자르는 제한효소만 보고 싶으면 blunt를 입력해주세요. \")"
   ]
  },
  {
   "cell_type": "code",
   "execution_count": null,
   "id": "37eac4fb",
   "metadata": {
    "scrolled": true
   },
   "outputs": [],
   "source": [
    "if filter == 'sticky':\n",
    "    enzyme_table = enzyme_table[enzyme_table['cut_feature']== 'sticky']\n",
    "    enzyme_table.reset_index(inplace=True)\n",
    "elif filter == 'blunt':\n",
    "    enzyme_table = enzyme_table[enzyme_table['cut_feature']== 'blunt']\n",
    "    enzyme_table.reset_index(inplace=True)\n",
    "else: \n",
    "    filter = \"None\"\n",
    "    pass"
   ]
  },
  {
   "cell_type": "code",
   "execution_count": null,
   "id": "9bbcca63",
   "metadata": {
    "scrolled": false
   },
   "outputs": [],
   "source": [
    "sequence = input(\"검색할 시퀀스를 입력해주세요: \")\n",
    "# 시퀀스 입력하는 란 "
   ]
  },
  {
   "cell_type": "code",
   "execution_count": null,
   "id": "1bdee64d",
   "metadata": {},
   "outputs": [],
   "source": [
    "count = 0\n",
    "with open('Result.txt_{0}-{1}-{2}_{3}'.format(year,month,day,filter),'w',encoding='utf-8') as f:\n",
    "    f.write(\"Restriction enzyme which cuts this sequence: \")\n",
    "    for i in range(len(enzyme_table)):\n",
    "        enzyme = enzyme_table['Enzyme'][i]\n",
    "        feature = enzyme_table['cut_feature'][i]\n",
    "        res_find = enzyme_table['sequence'][i]\n",
    "        res_find = str(res_find)\n",
    "        if res_find in sequence:\n",
    "            print(enzyme, res_find, sequence.find(res_find))\n",
    "            f.write(\"{0}: {1} {2}\\n\".format(enzyme,res_find,feature))\n",
    "            count += 1\n",
    "        else: \n",
    "            count += 0\n",
    "    print(count)\n",
    "    f.write(\"Total: {0} enzymes cut input sequence\".format(count))\n",
    "# 아직 저장기능은 없습니다. 지금 출력도 좀 중구난방이라 정리 좀 해야될듯. \n",
    "# find로 나오는 위치의 경우 0부터 시작하기떄문에 하나 더해줬습니다. 아울러 해당 메소드가 '가장 처음에 나오는 글자'만 찾아주는거지 전체 검색이 아니기때문에 여러군데를 자르는지 여부는 모릅니다. "
   ]
  },
  {
   "cell_type": "code",
   "execution_count": null,
   "id": "f36ce48a",
   "metadata": {
    "scrolled": true
   },
   "outputs": [],
   "source": []
  }
 ],
 "metadata": {
  "kernelspec": {
   "display_name": "Python 3 (ipykernel)",
   "language": "python",
   "name": "python3"
  },
  "language_info": {
   "codemirror_mode": {
    "name": "ipython",
    "version": 3
   },
   "file_extension": ".py",
   "mimetype": "text/x-python",
   "name": "python",
   "nbconvert_exporter": "python",
   "pygments_lexer": "ipython3",
   "version": "3.8.12"
  }
 },
 "nbformat": 4,
 "nbformat_minor": 5
}
