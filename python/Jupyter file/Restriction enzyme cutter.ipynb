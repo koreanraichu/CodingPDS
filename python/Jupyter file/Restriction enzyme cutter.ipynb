{
 "cells": [
  {
   "cell_type": "code",
   "execution_count": null,
   "id": "17bd38f3",
   "metadata": {},
   "outputs": [],
   "source": [
    "import pandas as pd"
   ]
  },
  {
   "cell_type": "code",
   "execution_count": null,
   "id": "3165d299",
   "metadata": {},
   "outputs": [],
   "source": [
    "enzyme_table = pd.read_csv('/home/koreanraichu/restriction.csv')\n",
    "enzyme_table = enzyme_table.sort_values('Enzyme')\n",
    "# Finder에도 쓰이는 '그' DB 맞습니다. 현재 수동 구축 중... \n",
    "print(enzyme_table)\n",
    "print(len(enzyme_table))"
   ]
  },
  {
   "cell_type": "code",
   "execution_count": null,
   "id": "9bbcca63",
   "metadata": {
    "scrolled": true
   },
   "outputs": [],
   "source": [
    "sequence = input(\"검색할 시퀀스를 입력해주세요: \")\n",
    "# 시퀀스 입력하는 란 "
   ]
  },
  {
   "cell_type": "code",
   "execution_count": null,
   "id": "1bdee64d",
   "metadata": {},
   "outputs": [],
   "source": [
    "for i in range(len(enzyme_table)):\n",
    "    res_find = enzyme_table['sequence'][i]\n",
    "    res_find = str(res_find)\n",
    "    if res_find in sequence:\n",
    "        print(enzyme_table['Enzyme'][i],res_find,sequence.find(res_find)+1)\n",
    "    else: \n",
    "        print(enzyme_table['Enzyme'][i],\"Not found\")\n",
    "# 아직 저장기능은 없습니다. 지금 출력도 좀 중구난방이라 정리 좀 해야될듯. \n",
    "# find로 나오는 위치의 경우 0부터 시작하기떄문에 하나 더해줬습니다. 아울러 해당 메소드가 '가장 처음에 나오는 글자'만 찾아주는거지 전체 검색이 아니기때문에 여러군데를 자르는지 여부는 모릅니다. "
   ]
  },
  {
   "cell_type": "code",
   "execution_count": null,
   "id": "f36ce48a",
   "metadata": {},
   "outputs": [],
   "source": []
  }
 ],
 "metadata": {
  "kernelspec": {
   "display_name": "Python 3 (ipykernel)",
   "language": "python",
   "name": "python3"
  },
  "language_info": {
   "codemirror_mode": {
    "name": "ipython",
    "version": 3
   },
   "file_extension": ".py",
   "mimetype": "text/x-python",
   "name": "python",
   "nbconvert_exporter": "python",
   "pygments_lexer": "ipython3",
   "version": "3.8.12"
  }
 },
 "nbformat": 4,
 "nbformat_minor": 5
}
