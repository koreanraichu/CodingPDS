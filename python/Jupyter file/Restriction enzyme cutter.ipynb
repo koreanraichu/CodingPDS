{
 "cells": [
  {
   "cell_type": "code",
   "execution_count": null,
   "id": "17bd38f3",
   "metadata": {},
   "outputs": [],
   "source": [
    "import pandas as pd\n",
    "from datetime import datetime\n",
    "enzyme_table = pd.read_csv('/home/koreanraichu/restriction.csv')\n",
    "enzyme_table = enzyme_table.sort_values('Enzyme')\n",
    "# Finder에도 쓰이는 '그' DB 맞습니다. "
   ]
  },
  {
   "cell_type": "code",
   "execution_count": null,
   "id": "c47246aa",
   "metadata": {},
   "outputs": [],
   "source": [
    "year = datetime.today().year\n",
    "month = datetime.today().month\n",
    "day = datetime.today().day"
   ]
  },
  {
   "cell_type": "code",
   "execution_count": null,
   "id": "1a187935",
   "metadata": {
    "scrolled": true
   },
   "outputs": [],
   "source": [
    "filter = input(\"sticky로 자르는 제한효소만 보고 싶으면 sticky, blunt로 자르는 제한효소만 보고 싶으면 blunt를 입력해주세요. \")\n",
    "# sticky: sticky end만 \n",
    "# blunt: blunt end만 \n",
    "# 암것도 안 쓰면 다 봅니다. filter에 따라 테이블 형테가 달라집니다. "
   ]
  },
  {
   "cell_type": "code",
   "execution_count": null,
   "id": "37eac4fb",
   "metadata": {
    "scrolled": true
   },
   "outputs": [],
   "source": [
    "if filter == 'sticky':\n",
    "    enzyme_table = enzyme_table[enzyme_table['cut_feature']== 'sticky']\n",
    "    enzyme_table.reset_index(inplace=True)\n",
    "elif filter == 'blunt':\n",
    "    enzyme_table = enzyme_table[enzyme_table['cut_feature']== 'blunt']\n",
    "    enzyme_table.reset_index(inplace=True)\n",
    "else: \n",
    "    filter = \"No Filter\"\n",
    "    pass"
   ]
  },
  {
   "cell_type": "code",
   "execution_count": null,
   "id": "9bbcca63",
   "metadata": {
    "scrolled": false
   },
   "outputs": [],
   "source": [
    "sequence_name = input(\"검색할 시퀀스의 이름을 입력해주세요: \")\n",
    "sequence = input(\"검색할 시퀀스를 입력해주세요: \")\n",
    "# 시퀀스 입력하는 란"
   ]
  },
  {
   "cell_type": "code",
   "execution_count": null,
   "id": "43e66850",
   "metadata": {
    "scrolled": true
   },
   "outputs": [],
   "source": [
    "def count_func (a,b):\n",
    "    while a in b:\n",
    "        global site_count\n",
    "        loc = b.find(a)\n",
    "        site_count += 1\n",
    "        b = b[loc+len(a):]\n",
    "    return site_count\n",
    "# 이거 통으로 코드에 넣었더니 if 안에 있는데도 시퀀스 없으면 끝내더라... \n",
    "# 몇 번 자르는지 세는 변수를 저기다 넣었더니 이상하게 돼서 결국 전역변수화 했습니다... "
   ]
  },
  {
   "cell_type": "code",
   "execution_count": null,
   "id": "1bdee64d",
   "metadata": {
    "scrolled": true
   },
   "outputs": [],
   "source": [
    "count = 0\n",
    "count_nocut = 0\n",
    "once_cut_list = []\n",
    "two_cut_list = []\n",
    "multi_cut_list = []\n",
    "nocut_list = []\n",
    "with open('Result.txt_{0}-{1}-{2}_{3}_{4}'.format(year,month,day,filter,sequence_name),'w',encoding='utf-8') as f:\n",
    "    f.write(\"Restriction enzyme which cuts this sequence: \\n\")\n",
    "    for i in range(len(enzyme_table)):\n",
    "        enzyme = enzyme_table['Enzyme'][i]\n",
    "        feature = enzyme_table['cut_feature'][i]\n",
    "        res_find = enzyme_table['sequence'][i]\n",
    "        res_find = str(res_find)\n",
    "        if res_find in sequence:\n",
    "            site_count = 0\n",
    "            count_func(res_find,sequence)\n",
    "            count += 1\n",
    "            count_nocut += 0\n",
    "            if site_count == 1:\n",
    "                once_cut_list.append(enzyme)\n",
    "            elif site_count == 2: \n",
    "                two_cut_list.append(enzyme)\n",
    "            else: \n",
    "                multi_cut_list.append(enzyme)\n",
    "            f.write(\"{0}: {1} {2},{3} times cut.\\n\".format(enzyme,res_find,feature,site_count))\n",
    "        else: \n",
    "            count += 0\n",
    "            count_nocut += 1\n",
    "            nocut_list.append(enzyme)\n",
    "    once_cut_list = ', '.join(once_cut_list)\n",
    "    two_cut_list = ', '.join(two_cut_list)\n",
    "    multi_cut_list = ', '.join(multi_cut_list)\n",
    "    nocut_list = ', '.join(nocut_list)\n",
    "    f.write(\"Total: {0} enzymes cut input sequence, {1} enzymes never cut this sequence. \\n\".format(count,count_nocut))\n",
    "    f.write(\"Enzyme cut once: {0} \\nEnzyme cut two times: {1} \\nEnzyme cut over 3 times: {2} \\nEmzyme no cuts: {2}\".format(once_cut_list,two_cut_list,multi_cut_list,nocut_list))\n",
    "    f.close()\n",
    "# 컷수도 세주고 자르는 효소랑 안 자르는 효소도 목록으로 쫘라락... \n",
    "# 멀티컷... 오케이... "
   ]
  },
  {
   "cell_type": "code",
   "execution_count": null,
   "id": "10b138ee",
   "metadata": {},
   "outputs": [],
   "source": []
  }
 ],
 "metadata": {
  "kernelspec": {
   "display_name": "Python 3 (ipykernel)",
   "language": "python",
   "name": "python3"
  },
  "language_info": {
   "codemirror_mode": {
    "name": "ipython",
    "version": 3
   },
   "file_extension": ".py",
   "mimetype": "text/x-python",
   "name": "python",
   "nbconvert_exporter": "python",
   "pygments_lexer": "ipython3",
   "version": "3.8.12"
  }
 },
 "nbformat": 4,
 "nbformat_minor": 5
}
