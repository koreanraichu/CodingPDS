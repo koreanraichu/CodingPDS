{
 "cells": [
  {
   "cell_type": "code",
   "execution_count": null,
   "id": "f0f55929",
   "metadata": {},
   "outputs": [],
   "source": [
    "import re"
   ]
  },
  {
   "cell_type": "code",
   "execution_count": null,
   "id": "afcf04f2",
   "metadata": {},
   "outputs": [],
   "source": [
    "class RE_treatment:\n",
    "    def RE_wildcard(self,before_seq):\n",
    "        self.before_seq = before_seq\n",
    "        before_seq = before_seq.replace(\"N\",\".\")\n",
    "        return before_seq\n",
    "    # Wildcard: 시퀀스 데이터에 N이 있을 경우 Wildcard로 바꾼다. \n",
    "    def RE_or(self,before_seq):\n",
    "        self.before_seq = before_seq\n",
    "        if \"B\" in before_seq:\n",
    "            before_seq = before_seq.replace(\"B\",\"[CGT]\")\n",
    "        elif \"D\" in before_seq:\n",
    "            before_seq = before_seq.replace(\"D\",\"[AGT]\")\n",
    "        elif \"H\" in before_seq:\n",
    "            before_seq = before_seq.replace(\"H\",\"[ACT]\")\n",
    "        elif \"K\" in before_seq:\n",
    "            before_seq = before_seq.replace(\"K\",\"[GT]\")\n",
    "        elif \"M\" in before_seq:\n",
    "            before_seq = before_seq.replace(\"M\",\"[AC]\")\n",
    "        elif \"R\" in before_seq:\n",
    "            before_seq = before_seq.replace(\"R\",\"[AG]\")\n",
    "        elif \"S\" in before_seq:\n",
    "            before_seq = before_seq.replace(\"S\",\"[CG]\")\n",
    "        elif \"V\" in before_seq:\n",
    "            before_seq = before_seq.replace(\"V\",\"[ACG]\")\n",
    "        elif \"W\" in before_seq:\n",
    "            before_seq = before_seq.replace(\"W\",\"[AT]\")\n",
    "        elif \"Y\" in before_seq:\n",
    "            before_seq = before_seq.replace(\"Y\",\"[CT]\")\n",
    "        return before_seq\n",
    "    # Or: 시퀀스 데이터에 N 말고 ATGC 말고 다른 알파벳이 있을 경우, 해당하는 정규식 문법으로 바꾼다. "
   ]
  },
  {
   "cell_type": "code",
   "execution_count": null,
   "id": "b30ff478",
   "metadata": {
    "scrolled": false
   },
   "outputs": [],
   "source": [
    "a=RE_treatment()\n",
    "sequence = input()\n",
    "while True:\n",
    "    if \"N\" in sequence:\n",
    "        sequence = a.RE_wildcard(sequence)\n",
    "    elif \"B\" in sequence or \"D\" in sequence or \"H\" in sequence or \"K\" in sequence or \"M\" in sequence or \"R\" in sequence or \"S\" in sequence or \"V\" in sequence or \"W\" in sequence or \"Y\" in sequence: \n",
    "        sequence = a.RE_or(sequence)\n",
    "    else: \n",
    "        break\n",
    "print(sequence)"
   ]
  },
  {
   "cell_type": "code",
   "execution_count": null,
   "id": "8549b4e1",
   "metadata": {
    "scrolled": true
   },
   "outputs": [],
   "source": [
    "DNA = \"CGAAGCTGCTGACGGCGGAAGCGTCAAAGGGGTCTGTGAATTGTTATTCGCGAAAAACATCCGTCCCCGTGGGGGATAGTCACCGACGCCGTTTTATAGAAGCCTAGGGGAACAGGTTGGTTTAACTAGCTTAAGAAAGTAAATTCTGGGATTATACTGTAGTAATCACTAATTTACGGTGAGGGTTTTATGGCGGATCTTTACAAATTCAAGCCAGGTGATTTCAACAAATTTTGCTGACGATTTAGGCGCACTATCCCCTAAACTACAAATTAGAAAATAGCGTTCCTTGACGGCTAGAATTACCTACCGGCCTCCACCATACCTTCGATATTCGCGCCCACTCTCCCATTAATCCGCACAAGTGGATGTGATGCGATTGCCCGCTAAGATATTCTAACGTGTAACGCAGATGAGTATTCTACAGAGTTGCCGTACGCGTTGAACACTTCACGGATGATAGGAATTTGCGTATAGAGCGTGTCATTGAGGGGTTATACACCCGTAGACTACAACGGGCCCGGCTCAATCAGAACTCGAGTGCCTTGAATAACATACTCATCACTAAACATTCTCAACAGTCAATCGAGCAAGTCCATTATCAACGAGTGTGTTGCAGTTTTATTCTCTCGCCAGCATTGTAATAGGCACTAAAAGAGTGATGATAGTCATGAGTGCTGAGCTAAGACGGCGTCGGTGCATAGCGGACTTTCGGTCAGTCGCAATTCCTCACGAGACCCGTCCTGTTGAGCGTATCACTCTCAATGTACAAGCAACCCGAGAAGGCTGTGCCTGGACTCAACCGGATGCAGGATGGACTCCAGACACGGGGCCACCACTCTTCACACGTAAAGCAAGAACGTCGAGCAGTCATGAAAGTCTTAGTACCGCACGTGCCATCTTACTGCGAATATTGCCTGAAGCTGTACCGTTATTGGGGGGCAAAGATGAAGTTCTCCTCTTTTCATAATTGTACTGACGACAGCCGTGTTCCCGGTTT\"\n",
    "print(DNA)"
   ]
  },
  {
   "cell_type": "code",
   "execution_count": null,
   "id": "85f63589",
   "metadata": {},
   "outputs": [],
   "source": [
    "re.findall(sequence,DNA)"
   ]
  },
  {
   "cell_type": "code",
   "execution_count": null,
   "id": "673607ea",
   "metadata": {},
   "outputs": [],
   "source": []
  }
 ],
 "metadata": {
  "kernelspec": {
   "display_name": "Python 3 (ipykernel)",
   "language": "python",
   "name": "python3"
  },
  "language_info": {
   "codemirror_mode": {
    "name": "ipython",
    "version": 3
   },
   "file_extension": ".py",
   "mimetype": "text/x-python",
   "name": "python",
   "nbconvert_exporter": "python",
   "pygments_lexer": "ipython3",
   "version": "3.8.12"
  }
 },
 "nbformat": 4,
 "nbformat_minor": 5
}
