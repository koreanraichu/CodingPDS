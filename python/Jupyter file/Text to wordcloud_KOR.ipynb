{
 "cells": [
  {
   "cell_type": "code",
   "execution_count": null,
   "id": "a4481640",
   "metadata": {},
   "outputs": [],
   "source": [
    "from wordcloud import WordCloud\n",
    "from wordcloud import STOPWORDS\n",
    "import matplotlib.pyplot as plot"
   ]
  },
  {
   "cell_type": "code",
   "execution_count": null,
   "id": "9e7fdac0",
   "metadata": {},
   "outputs": [],
   "source": [
    "from PIL import Image\n",
    "import numpy as np  \n",
    "# Summon module"
   ]
  },
  {
   "cell_type": "code",
   "execution_count": null,
   "id": "52c25a98",
   "metadata": {},
   "outputs": [],
   "source": [
    "from konlpy.tag import Okt\n",
    "import nltk  \n",
    "okt=Okt()\n",
    "# 한글은 이렇게 처리하면 된다. "
   ]
  },
  {
   "cell_type": "code",
   "execution_count": null,
   "id": "1920055a",
   "metadata": {},
   "outputs": [],
   "source": [
    "text = []\n",
    "input_text=input()\n",
    "text.append(input_text)\n",
    "yorn = input(\"더 추가할 텍스트가 있나요?\")"
   ]
  },
  {
   "cell_type": "code",
   "execution_count": null,
   "id": "5e705550",
   "metadata": {},
   "outputs": [],
   "source": [
    "while yorn != \"n\":\n",
    "    yorn = input(\"더 추가할 텍스트가 있나요? \")\n",
    "    if yorn == \"n\":\n",
    "        text = ''.join(text)\n",
    "    else:\n",
    "        input_text= input(\"wordcloud로 만들 텍스트를 입력해주세요 \")\n",
    "        text.append(input_text)  \n",
    "print(text)\n",
    "text=okt.nouns(text)"
   ]
  },
  {
   "cell_type": "code",
   "execution_count": null,
   "id": "50490f14",
   "metadata": {},
   "outputs": [],
   "source": [
    "image = np.array(Image.open(\"/home/koreanraichu/600px-025Pikachu.png\")) "
   ]
  },
  {
   "cell_type": "code",
   "execution_count": null,
   "id": "2604e898",
   "metadata": {},
   "outputs": [],
   "source": [
    "font_path = '/usr/share/fonts/나눔손글씨 우리딸 손글씨.ttf'\n",
    "wordcloud = WordCloud(font_path = font_path,stopwords=STOPWORDS,\n",
    "                      background_color=\"#ffffff\",colormap=\"magma\",width = 800, height=800,\n",
    "                      mask=image)"
   ]
  },
  {
   "cell_type": "code",
   "execution_count": null,
   "id": "9426781d",
   "metadata": {},
   "outputs": [],
   "source": [
    "wordcloud = wordcloud.generate_from_text(str(text))"
   ]
  },
  {
   "cell_type": "code",
   "execution_count": null,
   "id": "cf1d5056",
   "metadata": {},
   "outputs": [],
   "source": [
    "plot.figure(figsize=(15,15))\n",
    "plot.axis('off')\n",
    "plot.imshow(wordcloud)\n",
    "plot.show()\n",
    "# 이거 근데 왜 뽑아놓으니까 단어 끝에 작은따옴표가... "
   ]
  },
  {
   "cell_type": "code",
   "execution_count": null,
   "id": "607b68e6",
   "metadata": {},
   "outputs": [],
   "source": []
  }
 ],
 "metadata": {
  "kernelspec": {
   "display_name": "Python 3 (ipykernel)",
   "language": "python",
   "name": "python3"
  },
  "language_info": {
   "codemirror_mode": {
    "name": "ipython",
    "version": 3
   },
   "file_extension": ".py",
   "mimetype": "text/x-python",
   "name": "python",
   "nbconvert_exporter": "python",
   "pygments_lexer": "ipython3",
   "version": "3.8.12"
  }
 },
 "nbformat": 4,
 "nbformat_minor": 5
}
