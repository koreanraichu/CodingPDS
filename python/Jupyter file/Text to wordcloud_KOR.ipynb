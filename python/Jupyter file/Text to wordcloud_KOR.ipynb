{
 "cells": [
  {
   "cell_type": "code",
   "execution_count": null,
   "id": "a4481640",
   "metadata": {},
   "outputs": [],
   "source": [
    "from wordcloud import WordCloud\n",
    "from wordcloud import STOPWORDS\n",
    "import matplotlib.pyplot as plot\n",
    "from PIL import Image\n",
    "import numpy as np  \n",
    "# Summon module\n",
    "# 아, 참고로 일본어는 안됩니다. 밑에 부르는 모듈이 한글 처리 전문이라... \n",
    "from konlpy.tag import Okt\n",
    "import nltk  \n",
    "okt=Okt()\n",
    "# 한글은 이렇게 처리하면 된다. "
   ]
  },
  {
   "cell_type": "code",
   "execution_count": null,
   "id": "ebf11420",
   "metadata": {},
   "outputs": [],
   "source": [
    "text = []\n",
    "while True: \n",
    "    input_text = input(\"wordcloud로 만들 텍스트를 입력해주세요. \")\n",
    "    text.append(input_text) \n",
    "    if input_text == \"\":\n",
    "        break\n",
    "text = ' '.join(text)\n",
    "text=okt.nouns(text)\n",
    "text = ' '.join(text)"
   ]
  },
  {
   "cell_type": "code",
   "execution_count": null,
   "id": "50490f14",
   "metadata": {},
   "outputs": [],
   "source": [
    "image = np.array(Image.open(\"/home/koreanraichu/600px-026Raichu.png\"))\n",
    "font_path = '/usr/share/fonts/dovemayo.otf'\n",
    "wordcloud = WordCloud(font_path = font_path,stopwords=STOPWORDS,\n",
    "                      background_color=\"#ffffff\",colormap=\"Purples\",width = 600, height=600,\n",
    "                      mask=image)"
   ]
  },
  {
   "cell_type": "code",
   "execution_count": null,
   "id": "9426781d",
   "metadata": {},
   "outputs": [],
   "source": [
    "wordcloud = wordcloud.generate_from_text(str(text))\n",
    "plot.figure(figsize=(15,15))\n",
    "plot.axis('off')\n",
    "plot.imshow(wordcloud)\n",
    "plot.show()\n",
    "# 이거 근데 왜 뽑아놓으니까 단어 끝에 작은따옴표가... "
   ]
  },
  {
   "cell_type": "code",
   "execution_count": null,
   "id": "607b68e6",
   "metadata": {},
   "outputs": [],
   "source": []
  }
 ],
 "metadata": {
  "kernelspec": {
   "display_name": "Python 3 (ipykernel)",
   "language": "python",
   "name": "python3"
  },
  "language_info": {
   "codemirror_mode": {
    "name": "ipython",
    "version": 3
   },
   "file_extension": ".py",
   "mimetype": "text/x-python",
   "name": "python",
   "nbconvert_exporter": "python",
   "pygments_lexer": "ipython3",
   "version": "3.8.12"
  }
 },
 "nbformat": 4,
 "nbformat_minor": 5
}
