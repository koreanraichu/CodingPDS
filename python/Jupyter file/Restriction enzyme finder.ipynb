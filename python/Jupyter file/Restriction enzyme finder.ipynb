{
 "cells": [
  {
   "cell_type": "code",
   "execution_count": null,
   "id": "dd0326d5",
   "metadata": {},
   "outputs": [],
   "source": [
    "import pandas as pd"
   ]
  },
  {
   "cell_type": "code",
   "execution_count": null,
   "id": "5805caff",
   "metadata": {
    "scrolled": true
   },
   "outputs": [],
   "source": [
    "enzyme_table = pd.read_csv('/home/koreanraichu/restriction.csv') # 일단 자체적으로 구축했음... 저거 종류 개많습니다 ㅠㅠ \n",
    "enzyme_table = enzyme_table.sort_values('Enzyme')\n",
    "# csv파일의 구성은 크게 효소 이름, 인식하는 시퀀스, 해당 시퀀스를 자르는 형태와 sticky or blunt 여부로 구성되어 있습니다. "
   ]
  },
  {
   "cell_type": "code",
   "execution_count": null,
   "id": "5edd3f23",
   "metadata": {},
   "outputs": [],
   "source": [
    "enzyme = input('시퀀스를 찾을 제한효소를 입력해주세요: ')\n",
    "search_sequence = input('제한효소 site를 찾을 시퀀스를 입력해주세요: ')\n",
    "# 제한효소 이름 토씨 하나 안 틀리고 입력해야 합니다. "
   ]
  },
  {
   "cell_type": "code",
   "execution_count": null,
   "id": "485232c8",
   "metadata": {},
   "outputs": [],
   "source": [
    "if enzyme_table['Enzyme'].isin([enzyme]).any() == True:\n",
    "    res_find = enzyme_table.sequence[(enzyme_table['Enzyme'] == enzyme)]\n",
    "    res_find = res_find.to_string(index=False)\n",
    "    res_find = str(res_find)\n",
    "    print(res_find)\n",
    "    # 효소 이름이 데이터베이스에 있을 경우 검색할 시퀀스 데이터를 가져온다\n",
    "    res_site = enzyme_table.restriction_site[(enzyme_table['Enzyme'] == enzyme)]\n",
    "    res_site = res_site.to_string(index=False)\n",
    "    res_site = str(res_site)\n",
    "    print(res_site)\n",
    "    # 효소 이름이 데이터베이스에 있을 경우 검색하고 대체할 시퀀스 데이터를 가져온다\n",
    "    cut_feature = enzyme_table.cut_feature[(enzyme_table['Enzyme'] == enzyme)]\n",
    "    cut_feature = cut_feature.to_string(index=False)\n",
    "    cut_feature = str(cut_feature)\n",
    "    print(cut_feature)\n",
    "    # blunt or sticky(나중에 저장 기능 추가할 때 넣을 예정입니다)\n",
    "else: \n",
    "    print(\"No data in Database\")"
   ]
  },
  {
   "cell_type": "code",
   "execution_count": null,
   "id": "a1fb80b3",
   "metadata": {},
   "outputs": [],
   "source": [
    "if enzyme_table['Enzyme'].isin([enzyme]).any() == True:\n",
    "    print(search_sequence.find(str(res_find)))\n",
    "else: \n",
    "    pass\n",
    "# 여기는 검색결과가 존재하지 않으면 -1로 나옵니다. (윗 블럭이랑 여기는 넘어가도 되는 부분)"
   ]
  },
  {
   "cell_type": "code",
   "execution_count": null,
   "id": "5258cf76",
   "metadata": {},
   "outputs": [],
   "source": [
    "with open ('Result.txt','w',encoding='utf-8') as f: \n",
    "    if search_sequence.find(res_find) != -1:\n",
    "        search_sequence = search_sequence.replace(res_find,res_site)\n",
    "        print(enzyme,\",\",cut_feature)\n",
    "        print(search_sequence)\n",
    "        f.write(enzyme)\n",
    "        f.write(\", \")\n",
    "        f.write(res_site)\n",
    "        f.write(\", \")\n",
    "        f.write(cut_feature)\n",
    "        f.write(\"\\n\")\n",
    "        f.write(search_sequence)\n",
    "        f.close()\n",
    "    elif search_sequence.find(res_find) == -1:  \n",
    "        print(\"No restriction site in this sequence. \")\n",
    "        f.write(enzyme)\n",
    "        f.write(\", \")\n",
    "        f.write(res_site)\n",
    "        f.write(\", \")\n",
    "        f.write(cut_feature)\n",
    "        f.write(\"\\n\")\n",
    "        f.write(\"This restricion enzyme never cut this sequence. \")\n",
    "        f.close()\n",
    "    else:\n",
    "        print(\"No data in database. \")\n",
    "        f.write(\"This restriction enzyme not entried in database. \")\n",
    "        f.close()\n",
    "# 시퀀스 안에 해당 문자열이 있으면 대체해서 표시, 아니면 '검색결과 없음'을 출력, 효소가 데이터베이스에 없으면 '데이터 없음'을 출력\n",
    "# 저장 형식도 조금씩 다릅니다. "
   ]
  },
  {
   "cell_type": "code",
   "execution_count": null,
   "id": "dd66f12d",
   "metadata": {},
   "outputs": [],
   "source": []
  }
 ],
 "metadata": {
  "kernelspec": {
   "display_name": "Python 3 (ipykernel)",
   "language": "python",
   "name": "python3"
  },
  "language_info": {
   "codemirror_mode": {
    "name": "ipython",
    "version": 3
   },
   "file_extension": ".py",
   "mimetype": "text/x-python",
   "name": "python",
   "nbconvert_exporter": "python",
   "pygments_lexer": "ipython3",
   "version": "3.8.12"
  }
 },
 "nbformat": 4,
 "nbformat_minor": 5
}
