{
 "cells": [
  {
   "cell_type": "code",
   "execution_count": null,
   "id": "dd0326d5",
   "metadata": {},
   "outputs": [],
   "source": [
    "import pandas as pd\n",
    "# 가라! 판다스! \n",
    "from datetime import datetime\n",
    "# 오늘 날짜 가져오는 모듈\n",
    "enzyme_table = pd.read_csv('/home/koreanraichu/restriction.csv') \n",
    "# 일단 자체적으로 구축했음... 저거 종류 개많습니다 ㅠㅠ "
   ]
  },
  {
   "cell_type": "code",
   "execution_count": null,
   "id": "88ed6ba1",
   "metadata": {},
   "outputs": [],
   "source": [
    "year = datetime.today().year\n",
    "month = datetime.today().month\n",
    "day = datetime.today().day"
   ]
  },
  {
   "cell_type": "code",
   "execution_count": null,
   "id": "5edd3f23",
   "metadata": {
    "scrolled": false
   },
   "outputs": [],
   "source": [
    "enzyme = input('시퀀스를 찾을 제한효소를 입력해주세요: ').strip()\n",
    "sequence_name = input('Sequence 이름을 입력해주세요: ').strip()\n",
    "sequence = input('제한효소 site를 찾을 시퀀스를 입력해주세요: ').upper().strip()\n",
    "# 제한효소 이름 토씨 하나 안 틀리고 입력해야 합니다. "
   ]
  },
  {
   "cell_type": "code",
   "execution_count": null,
   "id": "485232c8",
   "metadata": {
    "scrolled": true
   },
   "outputs": [],
   "source": [
    "# 사실 함수 정의도 try했었는데 형변환이 안되네요. \n",
    "if enzyme_table['Enzyme'].isin([enzyme]).any() == True:\n",
    "    res_find = enzyme_table.sequence[(enzyme_table['Enzyme'] == enzyme)]\n",
    "    res_find = res_find.to_string(index=False)\n",
    "    res_find = str(res_find)\n",
    "    # 효소 이름이 데이터베이스에 있을 경우 검색할 시퀀스 데이터를 가져온다\n",
    "    res_site = enzyme_table.restriction_site[(enzyme_table['Enzyme'] == enzyme)]\n",
    "    res_site = res_site.to_string(index=False)\n",
    "    res_site = str(res_site)\n",
    "    # 효소 이름이 데이터베이스에 있을 경우 검색하고 대체할 시퀀스 데이터를 가져온다\n",
    "    cut_feature = enzyme_table.cut_feature[(enzyme_table['Enzyme'] == enzyme)]\n",
    "    cut_feature = cut_feature.to_string(index=False)\n",
    "    cut_feature = str(cut_feature)\n",
    "    # blunt or sticky(나중에 저장 기능 추가할 때 넣을 예정입니다)\n",
    "else: \n",
    "    print(\"No data in Database\")"
   ]
  },
  {
   "cell_type": "code",
   "execution_count": null,
   "id": "90efa9da",
   "metadata": {},
   "outputs": [],
   "source": [
    "def count_func (a,b):\n",
    "    while a in b:\n",
    "        global site_count\n",
    "        loc = b.find(a)\n",
    "        site_count += 1\n",
    "        b = b[loc+len(a):]\n",
    "    return site_count\n",
    "# Cutter test하다가 여기에도 추가했음... \n",
    "def cut_func (a,b):\n",
    "    while a in b:\n",
    "        global res_loc # find로 나오는 값\n",
    "        global res_loc_list\n",
    "        seq_length = len(sequence)\n",
    "        loc = b.find(a)\n",
    "        b = b[loc+len(a):]\n",
    "        res_loc = len(sequence) - (len(b) + len(a)) + 1\n",
    "        res_loc_list.append(str(res_loc)) # find로 나오는 위치 목록(slicing에 따른 보정 필요)\n",
    "    return res_loc_list\n",
    "# 여기가 위치 관련 함수입니다. (cutter꺼 그대로 가져왔음)"
   ]
  },
  {
   "cell_type": "code",
   "execution_count": null,
   "id": "a1fb80b3",
   "metadata": {},
   "outputs": [],
   "source": [
    "if enzyme_table['Enzyme'].isin([enzyme]).any() == True:\n",
    "    pass\n",
    "else: \n",
    "    pass\n",
    "# 여기는 검색결과가 존재하지 않으면 -1로 나옵니다. (윗 블럭이랑 여기는 넘어가도 되는 부분)"
   ]
  },
  {
   "cell_type": "code",
   "execution_count": null,
   "id": "5258cf76",
   "metadata": {
    "scrolled": false
   },
   "outputs": [],
   "source": [
    "with open ('Result_{0}-{1}-{2}_{3}-{4}.txt'.format(year,month,day,enzyme,sequence_name),'w',encoding='utf-8') as f: \n",
    "    if sequence.find(res_find) != -1:\n",
    "        site_count = 0\n",
    "        res_loc = 0\n",
    "        res_loc_list = []\n",
    "        cut_count = count_func(res_find,sequence)\n",
    "        cut_location = cut_func(res_find,sequence)\n",
    "        sequence = sequence.replace(res_find,res_site)\n",
    "        res_loc_list = ', '.join(res_loc_list)\n",
    "        print(enzyme,\",\",cut_feature)\n",
    "        print(sequence,cut_count,res_loc_list)\n",
    "        f.write(\"{0} | {1} | {2} | {3} times cut\\n\".format(enzyme,res_site,cut_feature,cut_count))\n",
    "        f.write(\"Cut location(bp): {0} \\n\".format(res_loc_list))\n",
    "        f.write('Sequence name: {0} \\n{1}'.format(sequence_name,sequence))\n",
    "        f.close()\n",
    "        # DB에 효소가 있고 일치하는 시퀀스가 있을 때\n",
    "    elif enzyme_table['Enzyme'].isin([enzyme]).any() == True and sequence.find(res_find) == -1:  \n",
    "        print(\"No restriction site in this sequence. \")\n",
    "        f.write(\"{0} | {1} | {2} | 0 times cut\\n\".format(enzyme,res_site,cut_feature))\n",
    "        f.write('Sequence name: {0} \\n'.format(sequence_name))\n",
    "        f.write(\"This restricion enzyme never cut this sequence. \")\n",
    "        f.close()\n",
    "        # DB에 효소가 있으나 일치하는 시퀀스가 없을 때\n",
    "    else:\n",
    "        print(\"No data in database. \")\n",
    "        f.write(\"{0} \\n\".format(enzyme))\n",
    "        f.write(\"This restriction enzyme not entried in database. \")\n",
    "        f.close()\n",
    "        # DB에 효소가 없을 때"
   ]
  },
  {
   "cell_type": "code",
   "execution_count": null,
   "id": "dd66f12d",
   "metadata": {},
   "outputs": [],
   "source": []
  }
 ],
 "metadata": {
  "kernelspec": {
   "display_name": "Python 3 (ipykernel)",
   "language": "python",
   "name": "python3"
  },
  "language_info": {
   "codemirror_mode": {
    "name": "ipython",
    "version": 3
   },
   "file_extension": ".py",
   "mimetype": "text/x-python",
   "name": "python",
   "nbconvert_exporter": "python",
   "pygments_lexer": "ipython3",
   "version": "3.8.12"
  }
 },
 "nbformat": 4,
 "nbformat_minor": 5
}
