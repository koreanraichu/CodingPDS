{
 "cells": [
  {
   "cell_type": "code",
   "execution_count": null,
   "id": "dd0326d5",
   "metadata": {},
   "outputs": [],
   "source": [
    "import pandas as pd"
   ]
  },
  {
   "cell_type": "code",
   "execution_count": null,
   "id": "5805caff",
   "metadata": {},
   "outputs": [],
   "source": [
    "enzyme_table=pd.read_csv('/home/koreanraichu/restriction.csv') # 일단 자체적으로 구축했음... 저거 종류 개많습니다 ㅠㅠ \n",
    "print(enzyme_table)"
   ]
  },
  {
   "cell_type": "code",
   "execution_count": null,
   "id": "5edd3f23",
   "metadata": {},
   "outputs": [],
   "source": [
    "enzyme=input('시퀀스를 찾을 제한효소를 입력해주세요: ')"
   ]
  },
  {
   "cell_type": "code",
   "execution_count": null,
   "id": "4af025a4",
   "metadata": {
    "scrolled": true
   },
   "outputs": [],
   "source": [
    "res_find=enzyme_table.sequence[(enzyme_table['Enzyme'] == enzyme)]\n",
    "res_site=enzyme_table.restriction_site[(enzyme_table['Enzyme'] == enzyme)]\n",
    "res_find=res_find.to_string(index=False)\n",
    "res_site=res_site.to_string(index=False)\n",
    "res_find=str(res_find)\n",
    "res_site=str(res_site)\n",
    "print(res_find)\n",
    "print(res_site)"
   ]
  },
  {
   "cell_type": "code",
   "execution_count": null,
   "id": "d7050686",
   "metadata": {},
   "outputs": [],
   "source": [
    "search_sequence=input('제한효소 site를 찾을 시퀀스를 입력해주세요: ')"
   ]
  },
  {
   "cell_type": "code",
   "execution_count": null,
   "id": "a1fb80b3",
   "metadata": {},
   "outputs": [],
   "source": [
    "print(search_sequence.find(str(res_find)))"
   ]
  },
  {
   "cell_type": "code",
   "execution_count": null,
   "id": "5258cf76",
   "metadata": {},
   "outputs": [],
   "source": [
    "if search_sequence.find(res_find) != -1:\n",
    "    search_sequence = search_sequence.replace(res_find,res_site)\n",
    "    print(search_sequence)\n",
    "else: \n",
    "    print(\"No restriction site in this sequence.\")"
   ]
  },
  {
   "cell_type": "code",
   "execution_count": null,
   "id": "dd66f12d",
   "metadata": {},
   "outputs": [],
   "source": []
  }
 ],
 "metadata": {
  "kernelspec": {
   "display_name": "Python 3 (ipykernel)",
   "language": "python",
   "name": "python3"
  },
  "language_info": {
   "codemirror_mode": {
    "name": "ipython",
    "version": 3
   },
   "file_extension": ".py",
   "mimetype": "text/x-python",
   "name": "python",
   "nbconvert_exporter": "python",
   "pygments_lexer": "ipython3",
   "version": "3.8.12"
  }
 },
 "nbformat": 4,
 "nbformat_minor": 5
}
