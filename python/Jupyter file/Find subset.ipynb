{
 "cells": [
  {
   "cell_type": "code",
   "execution_count": null,
   "id": "08326a5f",
   "metadata": {},
   "outputs": [],
   "source": [
    "text=\"AGTCAGTC\"  \n",
    "print(text)  \n",
    "# 일단 소규모로 먼저 진행해보자. "
   ]
  },
  {
   "cell_type": "code",
   "execution_count": null,
   "id": "13886b65",
   "metadata": {},
   "outputs": [],
   "source": [
    "print(len(text))"
   ]
  },
  {
   "cell_type": "code",
   "execution_count": null,
   "id": "caa8cb56",
   "metadata": {},
   "outputs": [],
   "source": [
    "for i in range(len(text)):\n",
    "    print(text[0:i])\n",
    "# 찾을 부분(이하 find)"
   ]
  },
  {
   "cell_type": "code",
   "execution_count": null,
   "id": "a6f62a51",
   "metadata": {
    "scrolled": true
   },
   "outputs": [],
   "source": [
    "for i in range(len(text)):\n",
    "    print(text[-(i+1):])\n",
    "# 찾아야 하는 부분(이하 서브셋(subset))"
   ]
  },
  {
   "cell_type": "code",
   "execution_count": null,
   "id": "f3d70275",
   "metadata": {},
   "outputs": [],
   "source": [
    "for i in range(len(text)):\n",
    "    find=text[0:i]\n",
    "    print(\"*\",find)\n",
    "    for j in range(len(find)):\n",
    "        subset=find[1:(j+1)]\n",
    "        print(find[1:(j+1)])\n",
    "# find의 길이에 따라 서브셋 길이는 변하지만, indexing 위치가 변하지 않는다. 따라서 find의 길이에 따라 subset 범위를 바꿔 줄 필요가 있다. \n",
    "# 별은 헷갈려서 달아둔 것이다. "
   ]
  },
  {
   "cell_type": "code",
   "execution_count": null,
   "id": "486b99c8",
   "metadata": {},
   "outputs": [],
   "source": [
    "for i in range(len(text)):\n",
    "    find=text[0:i]\n",
    "    for j in range(len(find)):\n",
    "        subset=find[1:(j+1)]\n",
    "        if subset in find:\n",
    "            print(find, subset, len(subset))\n",
    "        else: \n",
    "            pass\n",
    "# find의 길이에 따라 서브셋 길이는 변하지만, indexing 위치가 변하지 않는다. 따라서 find의 길이에 따라 subset 범위를 바꿔 줄 필요가 있다. \n",
    "# 별은 헷갈려서 달아둔 것이다. "
   ]
  },
  {
   "cell_type": "code",
   "execution_count": null,
   "id": "3fba9fbe",
   "metadata": {},
   "outputs": [],
   "source": []
  },
  {
   "cell_type": "code",
   "execution_count": null,
   "id": "2a04570b",
   "metadata": {},
   "outputs": [],
   "source": []
  },
  {
   "cell_type": "code",
   "execution_count": null,
   "id": "0160006e",
   "metadata": {},
   "outputs": [],
   "source": []
  }
 ],
 "metadata": {
  "kernelspec": {
   "display_name": "Python 3 (ipykernel)",
   "language": "python",
   "name": "python3"
  },
  "language_info": {
   "codemirror_mode": {
    "name": "ipython",
    "version": 3
   },
   "file_extension": ".py",
   "mimetype": "text/x-python",
   "name": "python",
   "nbconvert_exporter": "python",
   "pygments_lexer": "ipython3",
   "version": "3.8.12"
  }
 },
 "nbformat": 4,
 "nbformat_minor": 5
}
