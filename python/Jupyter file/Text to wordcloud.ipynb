{
 "cells": [
  {
   "cell_type": "code",
   "execution_count": null,
   "id": "206e6baf",
   "metadata": {},
   "outputs": [],
   "source": [
    "from wordcloud import WordCloud\n",
    "from wordcloud import STOPWORDS\n",
    "import matplotlib.pyplot as plot\n",
    "from PIL import Image\n",
    "import numpy as np  \n",
    "# Summon module"
   ]
  },
  {
   "cell_type": "code",
   "execution_count": null,
   "id": "54ca2298",
   "metadata": {},
   "outputs": [],
   "source": [
    "text = []\n",
    "while True: \n",
    "    input_text = input(\"wordcloud로 만들 텍스트를 입력해주세요. \")\n",
    "    text.append(input_text) \n",
    "    if input_text == \"\":\n",
    "        break\n",
    "text = ''.join(text)"
   ]
  },
  {
   "cell_type": "code",
   "execution_count": null,
   "id": "df15bf4c",
   "metadata": {},
   "outputs": [],
   "source": [
    "image = np.array(Image.open(\"/home/koreanraichu/600px-155Cyndaquil.png\")) \n",
    "# 마스킹할 이미지(흰 바탕에 검정색을 권장함)\n",
    "font_path = '/usr/share/fonts/나눔손글씨 바른히피.ttf'\n",
    "wordcloud = WordCloud(font_path = font_path,stopwords=STOPWORDS,\n",
    "                      background_color=\"#ffffff\",colormap=\"magma\",width = 800, height=800,\n",
    "                      mask=image)\n",
    "# Font path: 글꼴 설정하실 경우 여기에 쓰세요\n",
    "# background color: wordcloud 배경 설정할 때 여기서 하세요 \n",
    "# colormap: 워드클라우드 글자색을 여기서 바꿔주세요(matplotlib colormap 치면 많이 나옵니다)"
   ]
  },
  {
   "cell_type": "code",
   "execution_count": null,
   "id": "dd574571",
   "metadata": {},
   "outputs": [],
   "source": [
    "wordcloud = wordcloud.generate_from_text(text)\n",
    "plot.figure(figsize=(15,15))\n",
    "plot.axis('off')\n",
    "plot.imshow(wordcloud)\n",
    "plot.show()"
   ]
  },
  {
   "cell_type": "code",
   "execution_count": null,
   "id": "54582a25",
   "metadata": {},
   "outputs": [],
   "source": [
    "print(text)\n",
    "# 입력한 문자열 전체가 나옵니다. (join된 형태) 근데 굳이 써보실 필요는 없는 듯... "
   ]
  },
  {
   "cell_type": "code",
   "execution_count": null,
   "id": "c23b3454",
   "metadata": {},
   "outputs": [],
   "source": []
  }
 ],
 "metadata": {
  "kernelspec": {
   "display_name": "Python 3 (ipykernel)",
   "language": "python",
   "name": "python3"
  },
  "language_info": {
   "codemirror_mode": {
    "name": "ipython",
    "version": 3
   },
   "file_extension": ".py",
   "mimetype": "text/x-python",
   "name": "python",
   "nbconvert_exporter": "python",
   "pygments_lexer": "ipython3",
   "version": "3.8.12"
  }
 },
 "nbformat": 4,
 "nbformat_minor": 5
}
