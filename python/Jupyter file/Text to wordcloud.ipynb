{
 "cells": [
  {
   "cell_type": "code",
   "execution_count": null,
   "id": "206e6baf",
   "metadata": {},
   "outputs": [],
   "source": [
    "from wordcloud import WordCloud\n",
    "from wordcloud import STOPWORDS\n",
    "import matplotlib.pyplot as plot\n",
    "from PIL import Image\n",
    "import numpy as np\n",
    "from argparse import FileType\n",
    "import tkinter\n",
    "from tkinter import filedialog\n",
    "# Summon module"
   ]
  },
  {
   "cell_type": "code",
   "execution_count": null,
   "id": "54ca2298",
   "metadata": {
    "scrolled": true
   },
   "outputs": [],
   "source": [
    "text = []\n",
    "while True: \n",
    "    input_text = input(\"wordcloud로 만들 텍스트를 입력해주세요. \")\n",
    "    text.append(input_text) \n",
    "    if input_text == \"\":\n",
    "        break\n",
    "text = ''.join(text)"
   ]
  },
  {
   "cell_type": "code",
   "execution_count": null,
   "id": "df15bf4c",
   "metadata": {},
   "outputs": [],
   "source": [
    "root = tkinter.Tk()\n",
    "root.withdraw()\n",
    "dir_path = filedialog.askopenfilename(parent=root,initialdir=\"/home/koreanraichu\",title='Please select a directory',filetypes = ((\"*.png\",\"*png\"),(\"*.jpg\",\"*jpg\"),(\"*.gif\",\"*gif\")))\n",
    "image = np.array(Image.open(dir_path)) \n",
    "# 마스킹할 이미지(흰 바탕에 검정색을 권장함)\n",
    "font_path = '/usr/share/fonts/나눔손글씨 바른히피.ttf'\n",
    "wordcloud = WordCloud(font_path = font_path,stopwords=STOPWORDS,\n",
    "                      background_color=\"#ffffff\",colormap=\"magma\",width = 960, height=960,\n",
    "                      mask=image)\n",
    "# Font path: 글꼴 설정하실 경우 여기에 쓰세요\n",
    "# background color: wordcloud 배경 설정할 때 여기서 하세요 \n",
    "# colormap: 워드클라우드 글자색을 여기서 바꿔주세요(matplotlib colormap 치면 많이 나옵니다)"
   ]
  },
  {
   "cell_type": "code",
   "execution_count": null,
   "id": "dd574571",
   "metadata": {
    "scrolled": true
   },
   "outputs": [],
   "source": [
    "root = tkinter.Tk()\n",
    "root.withdraw()\n",
    "save_path = filedialog.asksaveasfilename(parent=root,initialdir=\"/home/koreanraichu\",title='Please select a directory',filetypes = ((\"*.png\",\"*png\"),(\"*.jpg\",\"*jpg\"),(\"*.gif\",\"*gif\")))\n",
    "# 워드클라우드 저장하는 경로(저장은 png파일만 됩니다)\n",
    "wordcloud = wordcloud.generate_from_text(text)\n",
    "plot.figure(figsize=(15,15))\n",
    "plot.axis('off')\n",
    "plot.imshow(wordcloud)\n",
    "plot.savefig(save_path,bbox_inches='tight',pad_inches=0)\n",
    "plot.show()\n",
    "print(\"wordcloud saved where {}.png\".format(save_path))"
   ]
  },
  {
   "cell_type": "code",
   "execution_count": null,
   "id": "c23b3454",
   "metadata": {},
   "outputs": [],
   "source": []
  }
 ],
 "metadata": {
  "kernelspec": {
   "display_name": "Python 3 (ipykernel)",
   "language": "python",
   "name": "python3"
  },
  "language_info": {
   "codemirror_mode": {
    "name": "ipython",
    "version": 3
   },
   "file_extension": ".py",
   "mimetype": "text/x-python",
   "name": "python",
   "nbconvert_exporter": "python",
   "pygments_lexer": "ipython3",
   "version": "3.8.12"
  }
 },
 "nbformat": 4,
 "nbformat_minor": 5
}
