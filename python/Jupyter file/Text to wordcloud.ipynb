{
 "cells": [
  {
   "cell_type": "code",
   "execution_count": null,
   "id": "206e6baf",
   "metadata": {},
   "outputs": [],
   "source": [
    "from wordcloud import WordCloud\n",
    "from wordcloud import STOPWORDS\n",
    "import matplotlib.pyplot as plot"
   ]
  },
  {
   "cell_type": "code",
   "execution_count": null,
   "id": "0a51d4ef",
   "metadata": {},
   "outputs": [],
   "source": [
    "from PIL import Image\n",
    "import numpy as np  \n",
    "# Summon module"
   ]
  },
  {
   "cell_type": "code",
   "execution_count": null,
   "id": "8b3198bb",
   "metadata": {},
   "outputs": [],
   "source": [
    "text = []\n",
    "input_text= input(\"wordcloud로 만들 텍스트를 입력해주세요. \")\n",
    "text.append(input_text)  \n",
    "yorn = input(\"더 추가할 텍스트가 있나요?\")\n",
    "# n 아니면 아무거나 가능함 \n",
    "# 더 입력할 게 없어도 아래로 넘어가서 n을 치셔야 정상작동합니다... "
   ]
  },
  {
   "cell_type": "code",
   "execution_count": null,
   "id": "bd5cba82",
   "metadata": {},
   "outputs": [],
   "source": [
    "while yorn != \"n\":\n",
    "    yorn = input(\"더 추가할 텍스트가 있나요? \")\n",
    "    if yorn == \"n\":\n",
    "        text = ''.join(text)\n",
    "    else:\n",
    "        input_text= input(\"wordcloud로 만들 텍스트를 입력해주세요 \")\n",
    "        text.append(input_text)  \n",
    "# n을 입력할떄까지 계속 입력을 받고, 입력을 다 받고 나면 join으로 취합합니다\n",
    "# 소문자 or 대문자 받고싶은데 조건문이 왜 안들을까... "
   ]
  },
  {
   "cell_type": "code",
   "execution_count": null,
   "id": "df15bf4c",
   "metadata": {},
   "outputs": [],
   "source": [
    "image = np.array(Image.open(\"/home/koreanraichu/600px-802Marshadow.png\")) \n",
    "# 마스킹할 이미지(흰 바탕에 검정색을 권장함)"
   ]
  },
  {
   "cell_type": "code",
   "execution_count": null,
   "id": "e62427fc",
   "metadata": {},
   "outputs": [],
   "source": [
    "font_path = '/usr/share/fonts/210 에브리바디B.ttf'\n",
    "wordcloud = WordCloud(font_path = font_path,stopwords=STOPWORDS,\n",
    "                      background_color=\"#ffffff\",colormap=\"gray\",width = 800, height=800,\n",
    "                      mask=image)\n",
    "# Font path: 글꼴 설정하실 경우 여기에 쓰세요\n",
    "# background color: wordcloud 배경 설정할 때 여기서 하세요 \n",
    "# colormap: 워드클라우드 글자색을 여기서 바꿔주세요(matplotlib colormap 치면 많이 나옵니다)"
   ]
  },
  {
   "cell_type": "code",
   "execution_count": null,
   "id": "dd574571",
   "metadata": {},
   "outputs": [],
   "source": [
    "wordcloud = wordcloud.generate_from_text(text)"
   ]
  },
  {
   "cell_type": "code",
   "execution_count": null,
   "id": "6220f82a",
   "metadata": {},
   "outputs": [],
   "source": [
    "plot.figure(figsize=(15,15))\n",
    "plot.axis('off')\n",
    "plot.imshow(wordcloud)\n",
    "plot.show()"
   ]
  },
  {
   "cell_type": "code",
   "execution_count": null,
   "id": "54582a25",
   "metadata": {},
   "outputs": [],
   "source": [
    "print(text)"
   ]
  },
  {
   "cell_type": "code",
   "execution_count": null,
   "id": "c23b3454",
   "metadata": {},
   "outputs": [],
   "source": []
  }
 ],
 "metadata": {
  "kernelspec": {
   "display_name": "Python 3 (ipykernel)",
   "language": "python",
   "name": "python3"
  },
  "language_info": {
   "codemirror_mode": {
    "name": "ipython",
    "version": 3
   },
   "file_extension": ".py",
   "mimetype": "text/x-python",
   "name": "python",
   "nbconvert_exporter": "python",
   "pygments_lexer": "ipython3",
   "version": "3.8.12"
  }
 },
 "nbformat": 4,
 "nbformat_minor": 5
}
