{
 "cells": [
  {
   "cell_type": "code",
   "execution_count": null,
   "id": "83eb3174",
   "metadata": {},
   "outputs": [],
   "source": [
    "a=[\"A\",\"B\",\"C\",\"D\",\"E\",\"F\"]  \n",
    "print(a)\n",
    "# 일단 리스트를 만들어본다"
   ]
  },
  {
   "cell_type": "code",
   "execution_count": null,
   "id": "eda7b5df",
   "metadata": {},
   "outputs": [],
   "source": [
    "dict={}\n",
    "for i in range(len(a)):\n",
    "    dict[a[i]]=i\n",
    "# 그리고 더미 딕셔너리를 만든다"
   ]
  },
  {
   "cell_type": "code",
   "execution_count": null,
   "id": "57e2e4b9",
   "metadata": {},
   "outputs": [],
   "source": [
    "print(dict)\n",
    "# 잘 나왔다"
   ]
  },
  {
   "cell_type": "code",
   "execution_count": null,
   "id": "3867011f",
   "metadata": {},
   "outputs": [],
   "source": [
    "print(sorted(dict.items())[0])\n",
    "# Key값으로 정렬"
   ]
  },
  {
   "cell_type": "code",
   "execution_count": null,
   "id": "40498dad",
   "metadata": {},
   "outputs": [],
   "source": [
    "print(sorted(dict.items(), key=lambda x: x[1],reverse=True))\n",
    "# Value로 정렬\n",
    "# value로 정렬하는 건 operatoor나 lambda를 이용해야 한다고 한다. 이 코드는 lambda를 이용한 방법. (내림차순이다)"
   ]
  },
  {
   "cell_type": "code",
   "execution_count": null,
   "id": "73bbd2da",
   "metadata": {
    "scrolled": true
   },
   "outputs": [],
   "source": [
    "for i in range(len(dict)):\n",
    "    print(sorted(dict.items())[i]) \n",
    "# with for(Key)\n",
    "# 혹시 괄호 빼는 법 아시는 분은 제보 바람 "
   ]
  },
  {
   "cell_type": "code",
   "execution_count": null,
   "id": "a5763980",
   "metadata": {},
   "outputs": [],
   "source": [
    "for i in range(len(dict)):\n",
    "    print(sorted(dict.items(), key=lambda x: x[1],reverse=True)[i])\n",
    "# with for(values)"
   ]
  },
  {
   "cell_type": "code",
   "execution_count": null,
   "id": "fb6c6d5e",
   "metadata": {},
   "outputs": [],
   "source": []
  }
 ],
 "metadata": {
  "kernelspec": {
   "display_name": "Python 3 (ipykernel)",
   "language": "python",
   "name": "python3"
  },
  "language_info": {
   "codemirror_mode": {
    "name": "ipython",
    "version": 3
   },
   "file_extension": ".py",
   "mimetype": "text/x-python",
   "name": "python",
   "nbconvert_exporter": "python",
   "pygments_lexer": "ipython3",
   "version": "3.8.12"
  }
 },
 "nbformat": 4,
 "nbformat_minor": 5
}
